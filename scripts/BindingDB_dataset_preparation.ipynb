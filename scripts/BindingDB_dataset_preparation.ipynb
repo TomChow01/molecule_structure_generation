{
  "nbformat": 4,
  "nbformat_minor": 0,
  "metadata": {
    "colab": {
      "name": "BindingDB_dataset_preparation.ipynb",
      "provenance": [],
      "collapsed_sections": []
    },
    "kernelspec": {
      "name": "python3",
      "display_name": "Python 3"
    }
  },
  "cells": [
    {
      "cell_type": "code",
      "metadata": {
        "id": "hlay8yLiwbUC",
        "colab_type": "code",
        "colab": {}
      },
      "source": [
        "# uploading of BindingDB_All_2019m3.tsv.zip\n",
        "\n",
        "from google.colab import files\n",
        "files.upload()"
      ],
      "execution_count": 0,
      "outputs": []
    },
    {
      "cell_type": "code",
      "metadata": {
        "id": "YoGKULjw5EHs",
        "colab_type": "code",
        "colab": {}
      },
      "source": [
        "# Run this cell to mount your Google Drive.\n",
        "from google.colab import drive\n",
        "drive.mount('/content/drive')"
      ],
      "execution_count": 0,
      "outputs": []
    },
    {
      "cell_type": "code",
      "metadata": {
        "id": "OP1Dz07e5aYF",
        "colab_type": "code",
        "colab": {}
      },
      "source": [
        "!cp /content/drive/My\\ Drive/BindingDB_All_2019m3.tsv.zip /content/"
      ],
      "execution_count": 0,
      "outputs": []
    },
    {
      "cell_type": "code",
      "metadata": {
        "id": "ziI_n1nk9Fz6",
        "colab_type": "code",
        "colab": {}
      },
      "source": [
        "!unzip BindingDB_All_2019m3.tsv.zip"
      ],
      "execution_count": 0,
      "outputs": []
    },
    {
      "cell_type": "code",
      "metadata": {
        "id": "wCmcCB5Mu1so",
        "colab_type": "code",
        "colab": {}
      },
      "source": [
        "!wget -c https://repo.continuum.io/miniconda/Miniconda3-latest-Linux-x86_64.sh\n",
        "!chmod +x Miniconda3-latest-Linux-x86_64.sh\n",
        "!time bash ./Miniconda3-latest-Linux-x86_64.sh -b -f -p /usr/local\n",
        "!time conda install -q -y -c conda-forge rdkit"
      ],
      "execution_count": 0,
      "outputs": []
    },
    {
      "cell_type": "code",
      "metadata": {
        "id": "pWvnLwZN_Ixg",
        "colab_type": "code",
        "colab": {}
      },
      "source": [
        "import pandas as pd\n",
        "import numpy as np"
      ],
      "execution_count": 0,
      "outputs": []
    },
    {
      "cell_type": "code",
      "metadata": {
        "id": "L8KL34Ud_MM7",
        "colab_type": "code",
        "colab": {}
      },
      "source": [
        "data = pd.read_csv('BindingDB_All.tsv', sep = '\\t', error_bad_lines=False)"
      ],
      "execution_count": 0,
      "outputs": []
    },
    {
      "cell_type": "code",
      "metadata": {
        "id": "Dq6vSj9U9Zfr",
        "colab_type": "code",
        "colab": {}
      },
      "source": [
        "print(data.shape)\n",
        "data = data.loc[data['Target Source Organism According to Curator or DataSource'] == 'Homo sapiens']\n",
        "print(data.shape)"
      ],
      "execution_count": 0,
      "outputs": []
    },
    {
      "cell_type": "code",
      "metadata": {
        "id": "outes3DuKpIa",
        "colab_type": "code",
        "colab": {}
      },
      "source": [
        "bad_val=[]\n",
        "def convert_to_float(val, allowed_prefixes=('>', '<')):\n",
        "    if isinstance(val, (int, float)):\n",
        "        return float(val)\n",
        "    \n",
        "    val = str(val)\n",
        "    if val[0] not in allowed_prefixes:\n",
        "        #raise Exception(f'Conversion failed! Got \"{val}\"')\n",
        "        bad_val.append(val)\n",
        "        return 50000\n",
        "        \n",
        "    return float(val[1:])\n",
        "\n",
        "def process_signs(val):\n",
        "    val = str(val)\n",
        "    if val[0]=='>':\n",
        "        return 'greater'\n",
        "    else:\n",
        "        return 'else'"
      ],
      "execution_count": 0,
      "outputs": []
    },
    {
      "cell_type": "code",
      "metadata": {
        "id": "loy_m8_dKqga",
        "colab_type": "code",
        "colab": {}
      },
      "source": [
        "#allowed_prefixes=('>', '<') # will fail, since some items start with space\n",
        "allowed_prefixes=('>', '<', ' ') # works nicely\n",
        "\n",
        "for_select_ds = data\n",
        "\n",
        "for_select_ds['IC50_signs'] = data['IC50 (nM)'].apply(process_signs)\n",
        "for_select_ds['IC50_floats_data'] = data['IC50 (nM)'].apply(convert_to_float, allowed_prefixes=allowed_prefixes)\n",
        "for_select_ds['IC50_nan'] = pd.isnull(for_select_ds['IC50_floats_data'])\n",
        "\n",
        "\n",
        "for_select_ds['Kd_signs'] = data['Kd (nM)'].apply(process_signs)\n",
        "for_select_ds['Kd_floats_data'] = data['Kd (nM)'].apply(convert_to_float, allowed_prefixes=allowed_prefixes)\n",
        "for_select_ds['Kd_nan'] = pd.isnull(for_select_ds['Kd_floats_data'])\n",
        "\n",
        "\n",
        "for_select_ds['EC50_signs'] = data['EC50 (nM)'].apply(process_signs)\n",
        "for_select_ds['EC50_floats_data'] = data['EC50 (nM)'].apply(convert_to_float, allowed_prefixes=allowed_prefixes)\n",
        "for_select_ds['EC50_nan'] = pd.isnull(for_select_ds['EC50_floats_data'])\n",
        "\n",
        "for_select_ds.loc[(for_select_ds['IC50_nan'] == False) & (for_select_ds['IC50_floats_data'] < 100) & (for_select_ds['IC50_signs'] != 'greater'), 'IC50_res']=True\n",
        "for_select_ds.loc[(for_select_ds['Kd_nan'] == False) & (for_select_ds['Kd_floats_data'] < 100) & (for_select_ds['Kd_signs'] != 'greater'), 'Kd_res']=True\n",
        "for_select_ds.loc[(for_select_ds['EC50_nan'] == False) & (for_select_ds['EC50_floats_data'] < 100) & (for_select_ds['EC50_signs'] != 'greater'), 'EC50_res']=True\n",
        "\n",
        "\n",
        "result=for_select_ds.loc[(for_select_ds['IC50_res'] == True)|((for_select_ds['Kd_res'] == True)&(for_select_ds['IC50_nan']==True))|((for_select_ds['Kd_nan'] == True)&(for_select_ds['IC50_nan']==True)&(for_select_ds['EC50_res'] == True))]\n",
        "#result=for_select_ds.loc[(for_select_ds['IC50_res'] == True)|(for_select_ds['Kd_res'] == True)|(for_select_ds['EC50_res'] == True)]\n",
        "#for_select_ds['IC50_res'] = ['True' if ((row['IC50_nan'] == False) & (row['IC50_floats_data'] < 100) & (row['IC50_signs'] != 'greater')) else 'False' for index, row in for_select_ds.iterrows()] "
      ],
      "execution_count": 0,
      "outputs": []
    },
    {
      "cell_type": "code",
      "metadata": {
        "id": "CrXKRzxNb4-C",
        "colab_type": "code",
        "colab": {}
      },
      "source": [
        "result.shape"
      ],
      "execution_count": 0,
      "outputs": []
    },
    {
      "cell_type": "code",
      "metadata": {
        "id": "LADujTQlXaBF",
        "colab_type": "code",
        "colab": {}
      },
      "source": [
        "len(bad_val)"
      ],
      "execution_count": 0,
      "outputs": []
    },
    {
      "cell_type": "code",
      "metadata": {
        "id": "T08LnHNvBL46",
        "colab_type": "code",
        "colab": {}
      },
      "source": [
        "result2 = result.loc[pd.isnull(result['Ligand SMILES']) == False]\n",
        "print(result2.shape)\n",
        "with_pubchem_cid = result2.loc[pd.isnull(result2['PubChem CID']) == False]\n",
        "print(with_pubchem_cid.shape)"
      ],
      "execution_count": 0,
      "outputs": []
    },
    {
      "cell_type": "code",
      "metadata": {
        "id": "v_0IGaXcvOUZ",
        "colab_type": "code",
        "colab": {}
      },
      "source": [
        "import sys\n",
        "sys.path.append('/usr/local/lib/python3.6.7/site-packages/')\n",
        "sys.path.append('/usr/local/lib/python3.6.7/site-packages/rdkit/')"
      ],
      "execution_count": 0,
      "outputs": []
    },
    {
      "cell_type": "code",
      "metadata": {
        "id": "Al-iWeAYvPmB",
        "colab_type": "code",
        "colab": {}
      },
      "source": [
        "% cd /usr/local/lib/python3.7/site-packages/"
      ],
      "execution_count": 0,
      "outputs": []
    },
    {
      "cell_type": "code",
      "metadata": {
        "id": "2C5YfwwOvOPI",
        "colab_type": "code",
        "colab": {}
      },
      "source": [
        "from rdkit import Chem\n",
        "from rdkit.Chem import Descriptors\n",
        "from rdkit import DataStructs\n",
        "from rdkit.Chem.Fingerprints import FingerprintMols\n"
      ],
      "execution_count": 0,
      "outputs": []
    },
    {
      "cell_type": "code",
      "metadata": {
        "id": "eIHjhbQzvUVR",
        "colab_type": "code",
        "colab": {}
      },
      "source": [
        "def mol_weight(smile):\n",
        "  try:\n",
        "    return Descriptors.MolWt(Chem.MolFromSmiles(str(smile)))\n",
        "  except Exception:\n",
        "    return np.nan"
      ],
      "execution_count": 0,
      "outputs": []
    },
    {
      "cell_type": "code",
      "metadata": {
        "id": "sTeiyWXEADgN",
        "colab_type": "code",
        "colab": {}
      },
      "source": [
        "with_pubchem_cid['mol_weight'] = with_pubchem_cid['Ligand SMILES'].apply(mol_weight)\n",
        "print(with_pubchem_cid.shape)\n",
        "with_mol_weight_smile =with_pubchem_cid.loc[(pd.isnull(with_pubchem_cid['mol_weight'])==False) & (with_pubchem_cid['mol_weight'] < 1001)]\n",
        "print(with_mol_weight_smile.shape)"
      ],
      "execution_count": 0,
      "outputs": []
    },
    {
      "cell_type": "code",
      "metadata": {
        "id": "SfkduEiJB-No",
        "colab_type": "code",
        "colab": {}
      },
      "source": [
        "def process_protein_col(ds_to_start, var_name1,var_name2):\n",
        "  prot_cond1 = ds_to_start.loc[pd.isnull(ds_to_start[var_name1]) == False]\n",
        "  prot_cond2 = prot_cond1.loc[pd.isnull(prot_cond1[var_name2]) == False]\n",
        " # prot_cond2['prot_lens'] = prot_cond2[var_name1].apply(len)\n",
        "  print('shape_before_len ',prot_cond2.shape)\n",
        "  if prot_cond2.empty == False:\n",
        "    prot_cond3 = prot_cond2.loc[((prot_cond2[var_name1].str.len() > 79) & (prot_cond2[var_name1].str.len() < 2049))]\n",
        "    print('shape_after_len ',prot_cond3.shape)\n",
        "    return prot_cond3\n",
        "  else:\n",
        "    return prot_cond2\n",
        "  \n",
        "\n",
        "'''result_only_1_chain = with_mol_weight_smile.loc[with_mol_weight_smile['Number of Protein Chains in Target (>1 implies a multichain complex)'] == 1]\n",
        "prot_cond1 = result_only_1_chain.loc[pd.isnull(result_only_1_chain['BindingDB Target Chain  Sequence']) == False]\n",
        "prot_cond2 = prot_cond1.loc[pd.isnull(prot_cond1['UniProt (SwissProt) Primary ID of Target Chain']) == False]\n",
        "prot_cond2['prot_lens'] = prot_cond2['BindingDB Target Chain  Sequence'].apply(len)\n",
        "prot_cond3 = prot_cond2.loc[((prot_cond2['prot_lens'] > 79) & (prot_cond2['prot_lens'] < 4001))]'''\n",
        "\n",
        "prot_cond0 = with_mol_weight_smile.loc[with_mol_weight_smile['Number of Protein Chains in Target (>1 implies a multichain complex)'] == 1]\n",
        "prot_1_chain = process_protein_col(ds_to_start = prot_cond0, var_name1 = 'BindingDB Target Chain  Sequence',var_name2 = 'UniProt (SwissProt) Primary ID of Target Chain')\n",
        "print('prot_1_chain',prot_1_chain.shape)\n",
        "\n",
        "\n",
        "with open('/content/proteins_and_ligands', 'a') as prot_file:\n",
        "  prot_1_chain[['BindingDB Target Chain  Sequence','Ligand SMILES']].to_csv(prot_file, index=False, header=False, sep = '\\t')  \n",
        "  ids = list(set(list(prot_1_chain['BindingDB Target Chain  Sequence'])))\n",
        "  for i in range(1, 13):\n",
        "    print('processing ',i)\n",
        "    name1 = 'BindingDB Target Chain  Sequence.'+str(i)\n",
        "    name2 = 'UniProt (SwissProt) Primary ID of Target Chain.'+str(i)\n",
        "    prot_cond0 = with_mol_weight_smile.loc[with_mol_weight_smile['Number of Protein Chains in Target (>1 implies a multichain complex)'] > 1]\n",
        "    temp_ds1 = process_protein_col(ds_to_start = prot_cond0, var_name1 = name1, var_name2 = name2)\n",
        "    temp_ds1[[name1,'Ligand SMILES']].to_csv(prot_file, index=False, header=False, sep = '\\t')\n",
        "    print(temp_ds1.shape)\n",
        "    ids.extend(list(set(list(temp_ds1[name1]))))\n",
        "    prot_1_chain=prot_1_chain.append(temp_ds1)\n",
        "    print('prot_1_chain',prot_1_chain.shape)\n",
        "    \n"
      ],
      "execution_count": 0,
      "outputs": []
    },
    {
      "cell_type": "code",
      "metadata": {
        "id": "cZETj8GtSZIo",
        "colab_type": "code",
        "colab": {}
      },
      "source": [
        "with open('/content/dataset_full',\"w\") as t:\n",
        "  prot_1_chain.to_csv(t,sep='\\t')"
      ],
      "execution_count": 0,
      "outputs": []
    },
    {
      "cell_type": "code",
      "metadata": {
        "id": "bodFRqw7-63N",
        "colab_type": "code",
        "colab": {}
      },
      "source": [
        "prot_1_chain.shape"
      ],
      "execution_count": 0,
      "outputs": []
    },
    {
      "cell_type": "code",
      "metadata": {
        "id": "uoQKeC6XLMkN",
        "colab_type": "code",
        "colab": {}
      },
      "source": [
        "print(len(set(ids)))"
      ],
      "execution_count": 0,
      "outputs": []
    },
    {
      "cell_type": "code",
      "metadata": {
        "id": "Rw18qvIsPJ6q",
        "colab_type": "code",
        "colab": {}
      },
      "source": [
        "import re\n",
        "import random \n",
        "\n",
        "def number_check(string):\n",
        "    return re.search('\\d', string)\n",
        "  \n",
        "\n",
        "  \n",
        "len_list = 100  \n",
        "\n",
        "unique_ids = list(set(ids))\n",
        "print(len(unique_ids))\n",
        "random.shuffle(unique_ids)\n",
        "train_id_list = unique_ids[len_list:]\n",
        "test_id_list = unique_ids[:len_list]\n",
        "\n",
        "  \n",
        "\n",
        "\n",
        "smis_test=[]\n",
        "smis_train=[]\n",
        "with open('/content/proteins_and_ligands') as for_read, open('/content/proteins_train', 'w') as prot_file_train, open('/content/proteins_test', 'w') as prot_file_test:\n",
        "  for line in for_read:\n",
        "    line_splitted = line.strip().split(\"\\t\")\n",
        "    \n",
        "    if number_check(line_splitted[0])==None:\n",
        "      if line_splitted[0] in train_id_list:\n",
        "        prot_file_train.write(line_splitted[0].upper()+'\\n')\n",
        "        smis_train.append(line_splitted[1])\n",
        "      else:\n",
        "        prot_file_test.write(line_splitted[0].upper()+'\\n')\n",
        "        smis_test.append(line_splitted[1])\n",
        "        \n",
        "    \n",
        "    \n",
        "\n",
        "  \n",
        "\n",
        "cans_train = [Chem.MolToSmiles(Chem.MolFromSmiles(smi),True) for smi in smis_train]\n",
        "cans_test = [Chem.MolToSmiles(Chem.MolFromSmiles(smi),True) for smi in smis_test]\n",
        "with open('/content/ligands_train',\"w\") as canonical_smi_train:\n",
        "  for smile in cans_train:\n",
        "    canonical_smi_train.write(smile+'\\n')\n",
        "    \n",
        "    \n",
        "with open('/content/ligands_test', 'w') as canonical_smi_test:\n",
        "  for smile in cans_test:\n",
        "    canonical_smi_test.write(smile+'\\n')\n",
        "        "
      ],
      "execution_count": 0,
      "outputs": []
    },
    {
      "cell_type": "code",
      "metadata": {
        "id": "LAWUXqpLK3e1",
        "colab_type": "code",
        "colab": {}
      },
      "source": [
        ""
      ],
      "execution_count": 0,
      "outputs": []
    },
    {
      "cell_type": "code",
      "metadata": {
        "id": "g-WBzBAg7JYM",
        "colab_type": "code",
        "colab": {}
      },
      "source": [
        ""
      ],
      "execution_count": 0,
      "outputs": []
    },
    {
      "cell_type": "code",
      "metadata": {
        "id": "IPZNis9eTcGM",
        "colab_type": "code",
        "colab": {}
      },
      "source": [
        "import os\n",
        "\n",
        "\n",
        "\n",
        "def create_dictionary(uniqe_symbols, file_name):\n",
        "    with open(\n",
        "            dir+file_name,\n",
        "            \"r\") as drug_protein_connection:\n",
        "        for line in drug_protein_connection:\n",
        "            for symbol in line.strip():\n",
        "                if symbol not in uniqe_symbols:\n",
        "                    uniqe_symbols.append(symbol)\n",
        "    return uniqe_symbols\n",
        "\n",
        "\n",
        "def write_dict_to_file(uniqe_symbols,file_name):\n",
        "    output_file = open(\n",
        "            dir+file_name,\n",
        "            \"w\")\n",
        "    for symbol in uniqe_symbols:\n",
        "        output_file.write(\"'\"+symbol+\"'\" + \"\\n\")\n",
        "    return\n",
        "\n",
        "\n",
        "def create_file_with_space_separated_string_of_tokens(file_name):\n",
        "    if os.path.exists(dir + file_name+\".space_sep_seq\"):\n",
        "        os.remove(dir + file_name+\".space_sep_seq\")\n",
        "    output_file = open(\n",
        "        dir + file_name+\".space_sep_seq\",\n",
        "        \"a\")\n",
        "    with open(dir + file_name,\"r\") as drug_protein_connection:\n",
        "        for line in drug_protein_connection:\n",
        "                    output_file.write(\" \".join(line.strip())+\"\\n\")\n",
        "    return"
      ],
      "execution_count": 0,
      "outputs": []
    },
    {
      "cell_type": "code",
      "metadata": {
        "id": "4vmaBrKyTg1b",
        "colab_type": "code",
        "colab": {}
      },
      "source": [
        "dir = \"/content/\"\n",
        "uniqe_symbols = []\n",
        "dict_list1 = create_dictionary(uniqe_symbols, \"proteins_and_ligands\")\n",
        "write_dict_to_file(uniqe_symbols=dict_list1,file_name=\"vocab_from_prot_and_lig\")\n",
        "\n",
        "\n",
        "\n",
        "\n",
        "uniqe_symbols = []\n",
        "dict_list1 = create_dictionary(uniqe_symbols, \"ligands_train\")\n",
        "dict_list2 = create_dictionary(dict_list1, \"ligands_test\")\n",
        "dict_list3 = create_dictionary(dict_list2, \"proteins_train\")\n",
        "dict_list4 = create_dictionary(dict_list3, \"proteins_test\")\n",
        "write_dict_to_file(uniqe_symbols=dict_list4,file_name=\"vocab\")\n",
        "\n",
        "create_file_with_space_separated_string_of_tokens(\"ligands_train\")\n",
        "create_file_with_space_separated_string_of_tokens(\"proteins_train\")\n",
        "create_file_with_space_separated_string_of_tokens(\"ligands_test\")\n",
        "create_file_with_space_separated_string_of_tokens(\"proteins_test\")"
      ],
      "execution_count": 0,
      "outputs": []
    },
    {
      "cell_type": "markdown",
      "metadata": {
        "id": "hAdX1Nma2JhT",
        "colab_type": "text"
      },
      "source": [
        "**Checks**"
      ]
    },
    {
      "cell_type": "code",
      "metadata": {
        "id": "T4dY8OmULjiD",
        "colab_type": "code",
        "colab": {}
      },
      "source": [
        "#!diff /content/ligands /content/ligands1"
      ],
      "execution_count": 0,
      "outputs": []
    },
    {
      "cell_type": "code",
      "metadata": {
        "id": "gqeSLi4v2P2C",
        "colab_type": "code",
        "colab": {}
      },
      "source": [
        "for file_name in ['proteins_train', 'proteins_test']:\n",
        "  file = '/content/'+file_name\n",
        "  i=0\n",
        "  with open(file,\"r\") as f:\n",
        "    for line in f:\n",
        "      if any(c.islower() for c in line):\n",
        "        print(file,i)\n",
        "      i=i+1\n",
        "              \n",
        "\n"
      ],
      "execution_count": 0,
      "outputs": []
    },
    {
      "cell_type": "code",
      "metadata": {
        "id": "rIxPF7gSSRNs",
        "colab_type": "code",
        "colab": {}
      },
      "source": [
        "\n",
        "for file_name in ['proteins_train', 'proteins_test', 'ligands_train', 'ligands_test', 'proteins_and_ligands']:\n",
        "  file = '/content/'+file_name\n",
        "  i=0\n",
        "  with open(file,\"r\") as f:  \n",
        "    print(file,'number of unique items',len(set(f)))\n",
        "  with open(file,\"r\") as f:\n",
        "    for line in f:\n",
        "      i=i+1  \n",
        "    print(file, 'total obs', i)\n",
        "  \n"
      ],
      "execution_count": 0,
      "outputs": []
    },
    {
      "cell_type": "code",
      "metadata": {
        "id": "Lml2-g3LiUEc",
        "colab_type": "code",
        "colab": {}
      },
      "source": [
        "prot_1_chain['Target Source Organism According to Curator or DataSource'].value_counts()"
      ],
      "execution_count": 0,
      "outputs": []
    },
    {
      "cell_type": "code",
      "metadata": {
        "id": "SAAnSnJ0Wh05",
        "colab_type": "code",
        "colab": {}
      },
      "source": [
        "import matplotlib.pyplot as plt\n",
        "%matplotlib inline\n",
        "\n",
        "\n",
        "t=prot_1_chain.loc[prot_1_chain['IC50_floats_data']>100]\n",
        "print('IC50 greater then 100 ',t.shape)\n",
        "\n",
        "prot_1_chain['IC50_floats_data'].plot.hist(xlim=(0,200),bins=100) \n",
        "\n",
        "\n",
        "\n",
        "\n",
        "\n",
        "\n",
        "t=prot_1_chain.loc[prot_1_chain['Kd_floats_data']>100]\n",
        "print('Kd greater then 100 ',t.shape)\n",
        "\n",
        "prot_1_chain['Kd_floats_data'].plot.hist(xlim=(0,200),bins=1000) \n",
        "\n",
        "\n",
        "\n",
        "\n",
        "\n",
        "prot_1_chain['Target Source Organism According to Curator or DataSource'].value_counts().plot(kind='bar', subplots=True,figsize=(20, 7))"
      ],
      "execution_count": 0,
      "outputs": []
    },
    {
      "cell_type": "code",
      "metadata": {
        "id": "WNU4PjeMazON",
        "colab_type": "code",
        "colab": {}
      },
      "source": [
        "columns = data.columns\n",
        "for col in columns:\n",
        "    print(col)"
      ],
      "execution_count": 0,
      "outputs": []
    },
    {
      "cell_type": "code",
      "metadata": {
        "id": "epxv7W_DQb8S",
        "colab_type": "code",
        "colab": {}
      },
      "source": [
        "'''prot='MLLVSTVSAVPGLFSPPSSPSNSSQEELLDDRDPLLVRAELALLSTIFVAVALSNGLVLGALIRRGRRGRWAPMHVFISHLCLADLAVALFQVLPQLAWDATDRFHGPDALCRAVKYLQMVGMYASSYMILAMTLDRHRAICRPMLAYRHGGGARWNRPVLVAWAFSLLLSLPQLFIFAQRDVGNGSGVFDCWARFAEPWGLRAYVTWIALMVFVAPALGIAACQVLIFREIHASLVPGPSERAGRRRRGRRTGSPSEGAHVSAAMAKTVRMTLVIVIVYVLCWAPFFLVQLWAAWDPEAPLERPPFVLLMLLASLNSCTNPWIYASFSSSVSSELRSLLCCAQRHTTHSLGPQDESCATASSSLMKDTPS'\n",
        "\n",
        "def transform(val):\n",
        "  return Chem.MolToSmiles(Chem.MolFromSmiles(str(val)))\n",
        "\n",
        "with open('/content/test',\"w\") as t:\n",
        "  new_ds = prot_1_chain.loc[prot_1_chain['BindingDB Target Chain  Sequence'] == prot]\n",
        "  print(new_ds.shape)\n",
        "  new_ds['new_lig'] = new_ds['Ligand SMILES'].apply(transform)\n",
        "  new_ds[['BindingDB Target Chain  Sequence','Ligand SMILES','new_lig']].to_csv(t,sep='\\t')'''\n",
        "  "
      ],
      "execution_count": 0,
      "outputs": []
    },
    {
      "cell_type": "code",
      "metadata": {
        "id": "EHi3Re81FRb-",
        "colab_type": "code",
        "colab": {}
      },
      "source": [
        "prot='MRLPGAMPALALKGELLLLSLLLLLEPQISQGLVVTPPGPELVLNVSSTFVLTCSGSAPVVWERMSQEPPQEMAKAQDGTFSSVLTLTNLTGLDTGEYFCTHNDSRGLETDERKRLYIFVPDPTVGFLPNDAEELFIFLTEITEITIPCRVTDPQLVVTLHEKKGDVALPVPYDHQRGFSGIFEDRSYICKTTIGDREVDSDAYYVYRLQVSSINVSVNAVQTVVRQGENITLMCIVIGNEVVNFEWTYPRKESGRLVEPVTDFLLDMPYHIRSILHIPSAELEDSGTYTCNVTESVNDHQDEKAINITVVESGYVRLLGEVGTLQFAELHRSRTLQVVFEAYPPPTVLWFKDNRTLGDSSAGEIALSTRNVSETRYVSELTLVRVKVAEAGHYTMRAFHEDAEVQLSFQLQINVPVRVLELSESHPDSGEQTVRCRGRGMPQPNIIWSACRDLKRCPRELPPTLLGNSSEEESQLETNVTYWEEEQEFEVVSTLRLQHVDRPLSVRCTLRNAVGQDTQEVIVVPHSLPFKVVVISAILALVVLTIISLIILIMLWQKKPRYEIRWKVIESVSSDGHEYIYVDPMQLPYDSTWELPRDQLVLGRTLGSGAFGQVVEATAHGLSHSQATMKVAVKMLKSTARSSEKQALMSELKIMSHLGPHLNVVNLLGACTKGGPIYIITEYCRYGDLVDYLHRNKHTFLQHHSDKRRPPSAELYSNALPVGLPLPSHVSLTGESDGGYMDMSKDESVDYVPMLDMKGDVKYADIESSNYMAPYDNYVPSAPERTCRATLINESPVLSYMDLVGFSYQVANGMEFLASKNCVHRDLAARNVLICEGKLVKICDFGLARDIMRDSNYISKGSTFLPLKWMAPESIFNSLYTTLSDVWSFGILLWEIFTLGGTPYPELPMNEQFYNAIKRGYRMAQPAHASDEIYEIMQKCWEEKFEIRPPFSQLVLLLERLLGEGYKKKYQQVDEEFLRSDHPAILRSQARLPGFHGLRSPLDTSSVLYTAVQPNEGDNDYIIPLPDPKPEVADEGPLEGSPSLASSTLNEVNTSSTISCDSPLEPQDEPEPEPQLELQVEPEPELEQLPDSGCPAPRAEAEDSFL'\n",
        "new_ds = prot_1_chain.loc[prot_1_chain['BindingDB Target Chain  Sequence'] == prot]\n",
        "\n",
        "with open('/content/prot',\"w\") as file:\n",
        "  new_ds.to_csv(file,sep='\\t')"
      ],
      "execution_count": 0,
      "outputs": []
    },
    {
      "cell_type": "code",
      "metadata": {
        "id": "aHI-TBx3VR_l",
        "colab_type": "code",
        "colab": {}
      },
      "source": [
        "new_ds.shape"
      ],
      "execution_count": 0,
      "outputs": []
    },
    {
      "cell_type": "code",
      "metadata": {
        "id": "-klAvc169OS_",
        "colab_type": "code",
        "colab": {}
      },
      "source": [
        "prot_1_chain['BindingDB Target Chain  Sequence'].value_counts()"
      ],
      "execution_count": 0,
      "outputs": []
    },
    {
      "cell_type": "code",
      "metadata": {
        "id": "h5AzaZ9t9AGe",
        "colab_type": "code",
        "colab": {}
      },
      "source": [
        "ids = list(set(list(prot_1_chain['Ligand SMILES'])))\n",
        "print(len(ids))"
      ],
      "execution_count": 0,
      "outputs": []
    }
  ]
}