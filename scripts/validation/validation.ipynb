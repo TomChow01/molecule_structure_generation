{
  "nbformat": 4,
  "nbformat_minor": 0,
  "metadata": {
    "colab": {
      "name": "validation.ipynb",
      "provenance": [],
      "collapsed_sections": []
    },
    "kernelspec": {
      "name": "python3",
      "display_name": "Python 3"
    }
  },
  "cells": [
    {
      "cell_type": "code",
      "metadata": {
        "id": "uIzEN9kJvRZ4",
        "colab_type": "code",
        "colab": {}
      },
      "source": [
        "file_name = \"ligands (1)\"\n",
        "file_name_1000 = \"protein.seq.decode.results_bs4_1000_5_larger\""
      ],
      "execution_count": 0,
      "outputs": []
    },
    {
      "cell_type": "code",
      "metadata": {
        "id": "x89b75pJ0V9R",
        "colab_type": "code",
        "colab": {}
      },
      "source": [
        "%cd /content/"
      ],
      "execution_count": 0,
      "outputs": []
    },
    {
      "cell_type": "code",
      "metadata": {
        "id": "MTsntTxKqh-m",
        "colab_type": "code",
        "colab": {}
      },
      "source": [
        "with open(file_name) as f1:\n",
        "  ligand_generated=f1.readlines()\n",
        "  \n",
        "\n",
        "  \n",
        "'''ligand_generated_unique = set(ligand_generated)\n",
        "\n",
        "    \n",
        "\n",
        "\n",
        "\n",
        "print('unique', len(ligand_generated_unique))\n",
        "\n",
        "\n",
        "\n",
        "\n",
        "for ligand in ligand_generated_unique:\n",
        "  ligand=ligand.strip()\n",
        "  out=ligand.replace(\" \", \"\")\n",
        "  print(out)\n",
        "  \n",
        "'''  \n",
        "  \n",
        "ligand_generated_unique=[]\n",
        "for l in ligand_generated:\n",
        "  if l not in ligand_generated_unique:\n",
        "    ligand_generated_unique.append(l)\n",
        "    #print(l)\n",
        "    \n",
        "print(\"unique from all\",len(ligand_generated_unique))   \n",
        "\n",
        "   \n"
      ],
      "execution_count": 0,
      "outputs": []
    },
    {
      "cell_type": "code",
      "metadata": {
        "id": "gsQrDJVbxg-8",
        "colab_type": "code",
        "colab": {}
      },
      "source": [
        "# in case of many generated ligands for one protein\n",
        "\n",
        "\n",
        "output_lig = open(\"ligand_generated_many_from_one_prot\", \"w\")\n",
        "ligand_generated_1000 = []\n",
        "\n",
        "with open('/content/'+file_name_1000) as f1:\n",
        "  for ligand_string in f1:\n",
        "    ligand_string_list = []\n",
        "    ligand_string=ligand_string.strip()\n",
        "    ligand_string_list = ligand_string.split(\"\\t\")\n",
        "    for ligand in ligand_string_list:\n",
        "      ligand=ligand.replace(\" \", \"\")\n",
        "      ligand_generated_1000.append(ligand)\n",
        "      output_lig.write(ligand+'\\n')\n",
        "      \n",
        "      \n",
        "ligand_generated_unique_1000=[]\n",
        "for l in ligand_generated_1000:\n",
        "  if l not in ligand_generated_unique_1000:\n",
        "    ligand_generated_unique_1000.append(l)\n",
        "    #print(l)\n",
        "    \n",
        "print(len(ligand_generated_unique_1000))\n",
        "      \n",
        "    \n",
        "\n"
      ],
      "execution_count": 0,
      "outputs": []
    },
    {
      "cell_type": "code",
      "metadata": {
        "id": "h-FQaDPak3ca",
        "colab_type": "code",
        "colab": {}
      },
      "source": [
        ""
      ],
      "execution_count": 0,
      "outputs": []
    },
    {
      "cell_type": "code",
      "metadata": {
        "id": "D0q1gnVK2D7x",
        "colab_type": "code",
        "colab": {}
      },
      "source": [
        "!wget -c https://repo.continuum.io/miniconda/Miniconda3-latest-Linux-x86_64.sh\n",
        "!chmod +x Miniconda3-latest-Linux-x86_64.sh\n",
        "!time bash ./Miniconda3-latest-Linux-x86_64.sh -b -f -p /usr/local\n",
        "!time conda install -q -y -c conda-forge rdkit"
      ],
      "execution_count": 0,
      "outputs": []
    },
    {
      "cell_type": "code",
      "metadata": {
        "id": "XMpRQv8a2FHd",
        "colab_type": "code",
        "colab": {}
      },
      "source": [
        "import sys\n",
        "sys.path.append('/usr/local/lib/python3.6.7/site-packages/')\n",
        "sys.path.append('/usr/local/lib/python3.7/site-packages/rdkit/')"
      ],
      "execution_count": 0,
      "outputs": []
    },
    {
      "cell_type": "code",
      "metadata": {
        "id": "F2iUgIyl3oA9",
        "colab_type": "code",
        "colab": {}
      },
      "source": [
        "% cd /usr/local/lib/python3.7/site-packages/"
      ],
      "execution_count": 0,
      "outputs": []
    },
    {
      "cell_type": "code",
      "metadata": {
        "id": "sMt5CW1xcIC-",
        "colab_type": "code",
        "colab": {}
      },
      "source": [
        "%cd /content/"
      ],
      "execution_count": 0,
      "outputs": []
    },
    {
      "cell_type": "code",
      "metadata": {
        "id": "ZrwBSDPb4gaH",
        "colab_type": "code",
        "colab": {}
      },
      "source": [
        "from rdkit import Chem\n",
        "\n",
        "\n",
        "def is_valid_molecule(line):\n",
        "    \"\"\" Check line is a valid molecule with rdkit\n",
        "    \"\"\"\n",
        "    return Chem.MolFromSmiles(line.strip()) is not None\n",
        "\n",
        "\n",
        "def get_invalid_line():\n",
        "    \"\"\" Line used as 'fake' substitute for conversion of invalid lines\n",
        "    \"\"\"\n",
        "    return 'C'\n",
        "\n",
        "\n",
        "def get_line_for_write(line, validation_fn):\n",
        "    \"\"\" Check line with given validation function and create line for output file\n",
        "    \"\"\"\n",
        "    return line if validation_fn(line) else get_invalid_line()\n",
        "  "
      ],
      "execution_count": 0,
      "outputs": []
    },
    {
      "cell_type": "code",
      "metadata": {
        "id": "5r5FrhuHKvGf",
        "colab_type": "code",
        "colab": {}
      },
      "source": [
        "\n",
        "\n",
        "def file_ligand_generated_creation(file_name_arg,ligand_generated_arg):\n",
        "  output = open(file_name_arg+\"_ligands_generated\", \"w\")\n",
        "  for ligand in ligand_generated_arg:\n",
        "    ligand=ligand.strip()\n",
        "    out=ligand.replace(\" \", \"\")\n",
        "    output.write(get_line_for_write(out, is_valid_molecule)+'\\n')\n",
        "  \n",
        "  \n",
        "  output.close()\n",
        "  return\n",
        "\n",
        "  \n",
        "  \n",
        "file_ligand_generated_creation(file_name,ligand_generated)\n",
        "file_ligand_generated_creation(file_name_1000,ligand_generated_1000)\n",
        "\n",
        "\n",
        "\n"
      ],
      "execution_count": 0,
      "outputs": []
    },
    {
      "cell_type": "code",
      "metadata": {
        "id": "DnYQf6Yn2nAg",
        "colab_type": "code",
        "colab": {}
      },
      "source": [
        "\n",
        "  \n",
        "ligand_generated_unique=[]\n",
        "for l in ligand_generated:\n",
        "  if l not in ligand_generated_unique:\n",
        "    ligand_generated_unique.append(l)\n",
        "    #print(l)\n",
        "    \n",
        "print(\"unique from all\",len(ligand_generated_unique))  \n",
        "\n",
        "  \n",
        "  \n",
        "  \n",
        "'''for ligand in ligand_generated_unique:\n",
        "  ligand=ligand.strip()\n",
        "  out=ligand.replace(\" \", \"\")\n",
        "  print(get_line_for_write(out, is_valid_molecule))'''\n",
        "\n",
        "  \n",
        "  \n",
        "\n",
        "output = open(file_name+\"_ligands_generated\", \"w\")\n",
        "  \n",
        "  \n",
        "for ligand in ligand_generated:\n",
        "  ligand=ligand.strip()\n",
        "  out=ligand.replace(\" \", \"\")\n",
        "  output.write(get_line_for_write(out, is_valid_molecule)+'\\n')\n",
        "  \n",
        "  \n",
        "output.close()\n",
        "\n",
        "\n",
        "\n",
        "output = open(file_name_1000+\"_ligands_generated\", \"w\")\n",
        "  \n",
        "  \n",
        "for ligand in ligand_generated:\n",
        "  ligand=ligand.strip()\n",
        "  out=ligand.replace(\" \", \"\")\n",
        "  output.write(get_line_for_write(out, is_valid_molecule)+'\\n')\n",
        "  \n",
        "  \n",
        "output.close()\n",
        "\n",
        "\n",
        "invalid_count = 0\n",
        "for ligand in ligand_generated_unique:\n",
        "  ligand=ligand.strip()\n",
        "  out=ligand.replace(\" \", \"\")\n",
        "  if not is_valid_molecule(out):\n",
        "    invalid_count += 1\n",
        "      \n",
        "print(\"invalid from unique \",invalid_count)\n",
        "  \n",
        "\n",
        "\n",
        "invalid_count = 0\n",
        "valid_count = 0\n",
        "total = 0\n",
        "valid_ligands = []\n",
        "for ligand in ligand_generated:\n",
        "  total += 1\n",
        "  ligand=ligand.strip()\n",
        "  out=ligand.replace(\" \", \"\")\n",
        "  if is_valid_molecule(out):\n",
        "    valid_ligands.append(out)\n",
        "    valid_count += 1\n",
        "  else:\n",
        "    invalid_count += 1\n",
        "percent_of_valid = (valid_count * 100)/total\n",
        "print(\"invalid from all \",invalid_count,\"  valid from all \",valid_count,\"   percent of valid from all \",percent_of_valid)\n",
        "      \n",
        "      \n",
        "      \n",
        "valid_ligands_unique=[]\n",
        "for l in valid_ligands:\n",
        "  if l not in valid_ligands_unique:\n",
        "    print(l)\n",
        "\n",
        "percent_of_unique_from_valid = (len(valid_ligands_unique) * 100)/valid_count\n",
        "print(\"unique from valid\",len(valid_ligands_unique),\"  percent of unique from valid \",percent_of_unique_from_valid)\n",
        "    \n",
        "\n",
        "            "
      ],
      "execution_count": 0,
      "outputs": []
    },
    {
      "cell_type": "code",
      "metadata": {
        "id": "QuKdnjL8mKNT",
        "colab_type": "code",
        "colab": {}
      },
      "source": [
        "# Reset session here"
      ],
      "execution_count": 0,
      "outputs": []
    },
    {
      "cell_type": "code",
      "metadata": {
        "id": "Kgl_lxu82pCE",
        "colab_type": "code",
        "colab": {}
      },
      "source": [
        "!wget -c https://repo.continuum.io/archive/Anaconda3-5.1.0-Linux-x86_64.sh\n",
        "!chmod +x Anaconda3-5.1.0-Linux-x86_64.sh\n",
        "!bash ./Anaconda3-5.1.0-Linux-x86_64.sh -b -f -p /usr/local\n",
        "\n",
        "import sys\n",
        "sys.path.append('/usr/local/lib/python3.6/site-packages/')"
      ],
      "execution_count": 0,
      "outputs": []
    },
    {
      "cell_type": "code",
      "metadata": {
        "id": "xPpu9iOb_cex",
        "colab_type": "code",
        "colab": {}
      },
      "source": [
        "! conda install -c schrodinger pymol"
      ],
      "execution_count": 0,
      "outputs": []
    },
    {
      "cell_type": "code",
      "metadata": {
        "colab_type": "code",
        "id": "LPuElvlL2nb1",
        "colab": {}
      },
      "source": [
        "! conda install -c openbabel openbabel"
      ],
      "execution_count": 0,
      "outputs": []
    },
    {
      "cell_type": "code",
      "metadata": {
        "colab_type": "code",
        "id": "XE7xiYv02vfa",
        "colab": {}
      },
      "source": [
        "! conda install -c bioconda smina"
      ],
      "execution_count": 0,
      "outputs": []
    },
    {
      "cell_type": "code",
      "metadata": {
        "id": "c0NJLaBh3B8q",
        "colab_type": "code",
        "colab": {}
      },
      "source": [
        "%%shell\n",
        "for filename in *.pdb\n",
        "do\n",
        "tmp=${filename#*_}\n",
        "name=${tmp%.*}\n",
        "obabel -ismi ligands_\"$name\" --gen3d -osdf -O sdf_ligand_\"$name\".sdf -m -h\n",
        "done"
      ],
      "execution_count": 0,
      "outputs": []
    },
    {
      "cell_type": "code",
      "metadata": {
        "id": "9U0rSh8obPIM",
        "colab_type": "code",
        "colab": {}
      },
      "source": [
        "#four windows below prepare pdb files for docking. In final version we uses manualy curated pdbs as automatic processing did not remove all undesired substances"
      ],
      "execution_count": 0,
      "outputs": []
    },
    {
      "cell_type": "code",
      "metadata": {
        "id": "BE5sJXnLA-UZ",
        "colab_type": "code",
        "colab": {}
      },
      "source": [
        "'''Removing heteroatom lines from pdb'''\n",
        "\n",
        "\n",
        "\n",
        "from glob import glob\n",
        "            \n",
        "for file in glob(\"/content/*.pdb\"):\n",
        "    output = open(file + \"het_deleted.pdb\", \"w\")\n",
        "    f = open(file,\"r\")\n",
        "    for line in f:\n",
        "        if (line.startswith('ATOM') or line.startswith('TER')):\n",
        "        \toutput.write(line)\n",
        "    f.close()\n",
        "    output.close()"
      ],
      "execution_count": 0,
      "outputs": []
    },
    {
      "cell_type": "code",
      "metadata": {
        "id": "dfAi7-s9cAxn",
        "colab_type": "code",
        "colab": {}
      },
      "source": [
        "%%writefile pymol_h_add.py\n",
        "from pymol import cmd\n",
        "from glob import glob\n",
        "\n",
        "for file in glob(\"/content/*het_deleted.pdb\"):\n",
        "    #print file\n",
        "    cmd.load(file,'prot')\n",
        "    cmd.h_add('elem O or elem N')\n",
        "    cmd.save(str(file) + \"_h_added\"+\".pdb\")\n",
        "    cmd.delete('prot')"
      ],
      "execution_count": 0,
      "outputs": []
    },
    {
      "cell_type": "code",
      "metadata": {
        "id": "-h0uz3lzCSQj",
        "colab_type": "code",
        "colab": {}
      },
      "source": [
        "!pymol -cq pymol_h_add.py"
      ],
      "execution_count": 0,
      "outputs": []
    },
    {
      "cell_type": "code",
      "metadata": {
        "id": "nHTuo3pYvnXd",
        "colab_type": "code",
        "colab": {}
      },
      "source": [
        "%%shell\n",
        "for filename in /content/*pdb_h_added.pdb\n",
        "do\n",
        "obabel -ipdb \"$filename\" -opdbqt -O \"$filename\".pdbqt\n",
        "done"
      ],
      "execution_count": 0,
      "outputs": []
    },
    {
      "cell_type": "code",
      "metadata": {
        "id": "1LYhHW9Dxq3-",
        "colab_type": "code",
        "colab": {}
      },
      "source": [
        ""
      ],
      "execution_count": 0,
      "outputs": []
    },
    {
      "cell_type": "code",
      "metadata": {
        "id": "L2zufyS8xoj6",
        "colab_type": "code",
        "colab": {}
      },
      "source": [
        "### "
      ],
      "execution_count": 0,
      "outputs": []
    },
    {
      "cell_type": "code",
      "metadata": {
        "id": "cfwLbRPz8zkj",
        "colab_type": "code",
        "colab": {}
      },
      "source": [
        "%%shell\n",
        "for filename in *_protein.pdb\n",
        "do\n",
        "name=${filename%_*}\n",
        "echo $name\n",
        "obabel -ismi ligands_\"$name\" --gen3d -osdf -O sdf_ligand_\"$name\".sdf -m -h\n",
        "done"
      ],
      "execution_count": 0,
      "outputs": []
    },
    {
      "cell_type": "code",
      "metadata": {
        "id": "pEE9ZIVmI0bt",
        "colab_type": "code",
        "colab": {}
      },
      "source": [
        "### uses manually curated pdbs\n",
        "%%shell\n",
        "for filename in /content/*_protein.pdb\n",
        "do\n",
        "name=${filename%.*}\n",
        "obabel -ipdb \"$filename\" -xr -O \"$name\".pdbqt\n",
        "done\n",
        "\n",
        "\n",
        "%%shell\n",
        "for filename in /content/*_ref.pdb\n",
        "do\n",
        "name=${filename%.*}\n",
        "obabel \"$filename\" -O \"$name\".pdbqt\n",
        "done"
      ],
      "execution_count": 0,
      "outputs": []
    },
    {
      "cell_type": "code",
      "metadata": {
        "id": "WJX0GkjI7EuM",
        "colab_type": "code",
        "colab": {}
      },
      "source": [
        "import os\n",
        "import subprocess\n",
        "import re"
      ],
      "execution_count": 0,
      "outputs": []
    },
    {
      "cell_type": "code",
      "metadata": {
        "id": "xcbaRORn6slW",
        "colab_type": "code",
        "colab": {}
      },
      "source": [
        "def count_number_of_ligand(input_file):\n",
        "  with open(input_file, 'r') as f:\n",
        "    lines = f.readlines()\n",
        "  return len(lines)"
      ],
      "execution_count": 0,
      "outputs": []
    },
    {
      "cell_type": "code",
      "metadata": {
        "id": "lqgxhkYQAtiv",
        "colab_type": "code",
        "colab": {}
      },
      "source": [
        "def perform_docking(pdb_id):\n",
        "  number_of_ligand=count_number_of_ligand('ligands_'+str(pdb_id))\n",
        "  for i in range(1,number_of_ligand+1):\n",
        "    file_protein = str(pdb_id)+'_protein'+'.pdbqt'\n",
        "    file_lig_ref = str(pdb_id)+\"_ref\"+\".pdbqt\"\n",
        "    file_drug=\"sdf_ligand_\"+str(pdb_id)+str(i)+\".sdf\"\n",
        "    file_output = \"output\"+str(pdb_id)+str(i)+\".pdbqt\"\n",
        "    smina_cmd_output = \"smina_cmd_output\"+str(pdb_id)\n",
        "    launch_args = [\"smina\", \"-r\", file_protein, \"-l\", file_drug, \"--autobox_ligand\", \n",
        "                   file_lig_ref, \"--autobox_add\", \"10\", \"--exhaustiveness\", \"9\", \"-o\", file_output, \">>\", smina_cmd_output]\n",
        "    launch_string = ' '.join(launch_args)\n",
        "    p = subprocess.Popen(launch_string, shell=True, stdout=subprocess.PIPE)\n",
        "    stdout, stderr = p.communicate()\n",
        "  return\n",
        "  "
      ],
      "execution_count": 0,
      "outputs": []
    },
    {
      "cell_type": "code",
      "metadata": {
        "id": "MK-qkifWe217",
        "colab_type": "code",
        "colab": {}
      },
      "source": [
        "\n",
        "def parse_docking_output(input_file, output_file):\n",
        "  with open(input_file, 'r') as f:\n",
        "     lines = f.readlines()\n",
        "  \n",
        "  \n",
        "  delta_G = open(output_file, 'a')\n",
        "      \n",
        "  for line in lines:\n",
        "    match = re.findall(\"^1\\s{7}.\\d+.\\d\", line)\n",
        "    if match:\n",
        "      res = match[0].replace(\"1       \",\"\")\n",
        "      delta_G.write(res+' ')\n",
        "  delta_G.write('\\n')    \n",
        "      \n",
        "  delta_G.close()\n",
        "  return"
      ],
      "execution_count": 0,
      "outputs": []
    },
    {
      "cell_type": "code",
      "metadata": {
        "id": "ydNPSIFP8tKf",
        "colab_type": "code",
        "colab": {}
      },
      "source": [
        "def main(pdb_ids_file):\n",
        "  with open(pdb_ids_file, 'r') as f:\n",
        "    for line in f:      \n",
        "      pdb_id=line.strip()\n",
        "      print(pdb_id)\n",
        "      perform_docking(pdb_id)\n",
        "      parse_docking_output('smina_cmd_output'+str(pdb_id),'delta_G')\n",
        "  return\n",
        "  "
      ],
      "execution_count": 0,
      "outputs": []
    },
    {
      "cell_type": "code",
      "metadata": {
        "id": "ZbLOEhAQ16vB",
        "colab_type": "code",
        "colab": {}
      },
      "source": [
        "%%writefile pdb_ids.txt\n",
        "5EHR"
      ],
      "execution_count": 0,
      "outputs": []
    },
    {
      "cell_type": "code",
      "metadata": {
        "id": "m3i2J2qf_Tog",
        "colab_type": "code",
        "colab": {}
      },
      "source": [
        "main('pdb_ids.txt')"
      ],
      "execution_count": 0,
      "outputs": []
    },
    {
      "cell_type": "code",
      "metadata": {
        "id": "mULV5-2nyWG_",
        "colab_type": "code",
        "colab": {}
      },
      "source": [
        "! rm *pdb\n",
        "! rm *pdbqt\n",
        "! rm *sdf\n",
        "! rm ligands*\n",
        "! rm smina_cmd_output"
      ],
      "execution_count": 0,
      "outputs": []
    },
    {
      "cell_type": "code",
      "metadata": {
        "id": "uKfKgMKcksBz",
        "colab_type": "code",
        "colab": {}
      },
      "source": [
        "from google.colab import drive\n",
        "drive.mount('/content/drive')"
      ],
      "execution_count": 0,
      "outputs": []
    },
    {
      "cell_type": "code",
      "metadata": {
        "id": "4HCUql-ak0E3",
        "colab_type": "code",
        "colab": {}
      },
      "source": [
        "! cp /content/output* /content/drive/My\\ Drive/smina_res_gen/ "
      ],
      "execution_count": 0,
      "outputs": []
    },
    {
      "cell_type": "code",
      "metadata": {
        "id": "J0G1Zxf0lZqJ",
        "colab_type": "code",
        "colab": {}
      },
      "source": [
        "! cp /content/smina_cmd_output* /content/drive/My\\ Drive/smina_res_gen/ "
      ],
      "execution_count": 0,
      "outputs": []
    },
    {
      "cell_type": "code",
      "metadata": {
        "id": "NMCb8KiHlhwO",
        "colab_type": "code",
        "colab": {}
      },
      "source": [
        "! cp /content/delta_G /content/drive/My\\ Drive/smina_res_gen/ "
      ],
      "execution_count": 0,
      "outputs": []
    },
    {
      "cell_type": "code",
      "metadata": {
        "id": "R2Y8pczR03EX",
        "colab_type": "code",
        "colab": {}
      },
      "source": [
        "import numpy as np\n",
        "\n",
        "def list_to_plot(input_file):\n",
        "  means=[]\n",
        "  stds=[]\n",
        "  \n",
        "  \n",
        "  with open(input_file, 'r') as f:\n",
        "      for line in f:  \n",
        "        Gs = [float(i) for i in line.split()]\n",
        "        means.append(np.mean(Gs))\n",
        "        stds.append(np.std(Gs))\n",
        "      print(means)\n",
        "      print(stds)\n",
        "      \n",
        "  return np.array(means),np.array(stds)"
      ],
      "execution_count": 0,
      "outputs": []
    },
    {
      "cell_type": "code",
      "metadata": {
        "id": "sa7Uetz21_H2",
        "colab_type": "code",
        "colab": {}
      },
      "source": [
        "prot_names_init = ['Androgen receptor','Leukotriene A-4 hydrolase','Neutrophil collagenase','Cytochrome P450 3A4','Egl nine homolog 1','Chymase','Peptidyl-prolyl cis-trans isomerase FKBP1A','Gamma-butyrobetaine dioxygenase','AP2-associated protein kinase 1','Death-associated protein kinase 3','Galectin-3','Tyrosine-protein phosphatase non-receptor type 6']\n",
        "\n",
        "means_gen,stds_gen = list_to_plot('delta_G_gen')\n",
        "means,stds = list_to_plot('delta_G')\n",
        "\n",
        "\n"
      ],
      "execution_count": 0,
      "outputs": []
    },
    {
      "cell_type": "code",
      "metadata": {
        "id": "KCfxa2xsnEIg",
        "colab_type": "code",
        "colab": {}
      },
      "source": [
        ""
      ],
      "execution_count": 0,
      "outputs": []
    }
  ]
}