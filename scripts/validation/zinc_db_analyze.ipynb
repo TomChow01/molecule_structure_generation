{
  "nbformat": 4,
  "nbformat_minor": 0,
  "metadata": {
    "colab": {
      "name": "zinc_db_analyze.ipynb",
      "provenance": [],
      "collapsed_sections": []
    },
    "kernelspec": {
      "name": "python3",
      "display_name": "Python 3"
    }
  },
  "cells": [
    {
      "cell_type": "code",
      "metadata": {
        "id": "HlcWVieEda6p",
        "colab_type": "code",
        "colab": {}
      },
      "source": [
        "import pandas as pd\n",
        "import numpy as np"
      ],
      "execution_count": 0,
      "outputs": []
    },
    {
      "cell_type": "code",
      "metadata": {
        "id": "Y2zHLn7dgT1v",
        "colab_type": "code",
        "colab": {}
      },
      "source": [
        "from google.colab import drive\n",
        "drive.mount('/content/drive')"
      ],
      "execution_count": 0,
      "outputs": []
    },
    {
      "cell_type": "code",
      "metadata": {
        "id": "41nnxQwQgf8w",
        "colab_type": "code",
        "colab": {}
      },
      "source": [
        "! cp /content/drive/My\\ Drive/dataset_full.zip /content/dataset_full.zip"
      ],
      "execution_count": 0,
      "outputs": []
    },
    {
      "cell_type": "code",
      "metadata": {
        "id": "Kf6KfV8ShF0-",
        "colab_type": "code",
        "colab": {}
      },
      "source": [
        "!unzip dataset_full.zip"
      ],
      "execution_count": 0,
      "outputs": []
    },
    {
      "cell_type": "code",
      "metadata": {
        "id": "9wHBWwnmkUyG",
        "colab_type": "code",
        "colab": {}
      },
      "source": [
        "prot_info_initial = pd.read_csv('dataset_full (1)', sep = '\\t')"
      ],
      "execution_count": 0,
      "outputs": []
    },
    {
      "cell_type": "code",
      "metadata": {
        "id": "4UPGNQE-mo_3",
        "colab_type": "code",
        "colab": {}
      },
      "source": [
        "from collections import defaultdict\n",
        "zinc_id_ds_dict = defaultdict(list)   \n",
        "\n",
        "zinc_id_db_dict = {}"
      ],
      "execution_count": 0,
      "outputs": []
    },
    {
      "cell_type": "code",
      "metadata": {
        "id": "LaX_D6FKZcO-",
        "colab_type": "code",
        "colab": {}
      },
      "source": [
        "def prot_name_by_ligand(prot_info_initial,ligand, drug_dict_local):\n",
        "  #print(ligand)\n",
        "  \n",
        "  proteins = drug_dict_local[ligand]\n",
        "  \n",
        "  #print(ligand)\n",
        "  #print(proteins)\n",
        "  #if drug_dict_local[ligand] == []:\n",
        "    #print('empty list for ', ligand)\n",
        "    \n",
        "  new_ds = prot_info_initial.loc[prot_info_initial['BindingDB Target Chain  Sequence'].isin(proteins)]\n",
        "  prot_info = new_ds['UniProt (SwissProt) Recommended Name of Target Chain']\n",
        "  prot_info=prot_info.drop_duplicates()\n",
        "  proteins_for_ligand = prot_info.tolist()\n",
        "  return proteins_for_ligand\n",
        "\n",
        "\n",
        "def create_ds_info_dict(list_of_proteins, zinc_id_ds_dict_local):\n",
        "  for prot in proteins_for_ligand:\n",
        "    zinc_id_ds_dict_local[zinc_id].append(prot)\n",
        "    print(zinc_id,'\\t',prot,'\\t',source_smile)\n",
        "  return zinc_id_ds_dict_local\n",
        "\n",
        "\n",
        "def create_db_info_dict(zinc_id, zinc_id_db_dict_local):\n",
        "  response = get_response_by_zinc_id(zinc_id)\n",
        "  soup = get_soup(response)\n",
        "  list_first_col=tolist_first_column(soup)\n",
        "  if len(list_first_col) != 0:\n",
        "    zinc_id_db_dict_local[zinc_id]=list_first_col\n",
        "  return zinc_id_db_dict_local    \n",
        "      \n",
        "      \n",
        "      \n",
        "      "
      ],
      "execution_count": 0,
      "outputs": []
    },
    {
      "cell_type": "code",
      "metadata": {
        "id": "-fs4sszDIk21",
        "colab_type": "code",
        "colab": {}
      },
      "source": [
        "import requests\n",
        "from bs4 import BeautifulSoup\n",
        "\n",
        "\n",
        "def get_response_by_zinc_id(zinc_id):\n",
        "    return requests.get(rf'http://zinc.docking.org/substances/{zinc_id}/activities/').text\n",
        "\n",
        "\n",
        "def get_soup(html_doc):\n",
        "    return BeautifulSoup(html_doc, 'html.parser')\n",
        "\n",
        "\n",
        "def stringify(content):\n",
        "    if isinstance(content, str):\n",
        "        return content\n",
        "\n",
        "    return content.string\n",
        "\n",
        "\n",
        "def to_strings_list(tag):\n",
        "    #print(tag.contents)\n",
        "    return map(stringify, tag.contents)\n",
        "\n",
        "\n",
        "def prettify_string(string):\n",
        "    #print(' '.join(string.split()))\n",
        "    return ' '.join(string.split())\n",
        "\n",
        "\n",
        "def get_pretty_string(tag):\n",
        "    str_list = to_strings_list(tag)\n",
        "    initial_string = ''.join(str_list)\n",
        "    #print(initial_string)\n",
        "    pretty_string = initial_string.replace('\\n', '')\n",
        "    #print(pretty_string)\n",
        "    pretty_string = prettify_string(pretty_string)\n",
        "    return pretty_string\n",
        "\n",
        "\n",
        "def tolist_first_column(soup):\n",
        "    all_tr = soup.table.tbody.find_all('tr')\n",
        "    first_column = [get_pretty_string(tr.find('td')) for tr in all_tr]\n",
        "    return first_column"
      ],
      "execution_count": 0,
      "outputs": []
    },
    {
      "cell_type": "code",
      "metadata": {
        "id": "7JkJGwcSkdGM",
        "colab_type": "code",
        "colab": {}
      },
      "source": [
        "from collections import defaultdict\n",
        "zinc_id_ds_dict = defaultdict(list) \n",
        "zinc_id_db_dict = {}\n",
        "\n",
        "\n",
        "\n",
        "for ind in range(5,6):\n",
        "  \n",
        "  \n",
        "  drug_dict = defaultdict(list)\n",
        "  \n",
        "  with open(\"/content/for_cpi_prediction\"+str(ind)) as file1:\n",
        "    for line in file1:\n",
        "      l=line.split(' ')\n",
        "      #print('line', l[0])\n",
        "      drug_dict[l[0]].append(l[1])\n",
        "      \n",
        "      \n",
        "  \n",
        "  print(len(drug_dict))\n",
        "  for k in drug_dict:\n",
        "    if drug_dict[k] == []:\n",
        "      print(\"warning\", k)\n",
        "      \n",
        "      \n",
        "  with open(\"/content/lig_gen_in_zinc_ds\"+str(ind)) as file2:\n",
        "    first_line = file2.readline()\n",
        "    unique_ids = []\n",
        "    activity_data_available = []\n",
        "    for line in file2:\n",
        "      l=line.split(',')\n",
        "      zinc_id = l[0]\n",
        "      source_smile = l[3]\n",
        "      if zinc_id not in unique_ids:\n",
        "        unique_ids.append(zinc_id)\n",
        "      proteins_for_ligand =  prot_name_by_ligand(prot_info_initial,source_smile,drug_dict)\n",
        "      for prot in proteins_for_ligand:\n",
        "        zinc_id_ds_dict[zinc_id].append(prot)\n",
        "        #print(zinc_id,'\\t',prot,'\\t',source_smile)\n",
        "      response = get_response_by_zinc_id(zinc_id)\n",
        "      soup = get_soup(response)\n",
        "      list_first_col=tolist_first_column(soup)\n",
        "      if len(list_first_col) != 0:\n",
        "        zinc_id_db_dict[zinc_id]=list_first_col\n",
        "        if zinc_id not in activity_data_available:\n",
        "          activity_data_available.append(zinc_id)\n",
        "    print('number of ligands in zinc db ', len(unique_ids))  \n",
        "    print('activity data available ', len(activity_data_available))\n",
        "        \n",
        "        \n",
        "    print(len(drug_dict))"
      ],
      "execution_count": 0,
      "outputs": []
    },
    {
      "cell_type": "code",
      "metadata": {
        "id": "0eFx9wFyIqng",
        "colab_type": "code",
        "colab": {}
      },
      "source": [
        "out=open(\"/content/in_zinc_results\", \"w\")\n",
        "for zinc_id in zinc_id_db_dict:\n",
        "  #if zinc_id in zinc_id_ds_dict:\n",
        "  out.write(zinc_id+'\\t'+str(zinc_id_ds_dict[zinc_id])+'\\t'+str(zinc_id_db_dict[zinc_id])+'\\n')\n",
        "    \n",
        "out.close()"
      ],
      "execution_count": 0,
      "outputs": []
    },
    {
      "cell_type": "code",
      "metadata": {
        "id": "yxYCkCTKqXjc",
        "colab_type": "code",
        "colab": {}
      },
      "source": [
        "print('dict length ds ',len(zinc_id_ds_dict),'dict length db ',len(zinc_id_db_dict))"
      ],
      "execution_count": 0,
      "outputs": []
    },
    {
      "cell_type": "code",
      "metadata": {
        "id": "1jE_HadR4r4W",
        "colab_type": "code",
        "colab": {}
      },
      "source": [
        "for i in unique_ids:\n",
        "  if i not in zinc_id_ds_dict:\n",
        "    print(i)"
      ],
      "execution_count": 0,
      "outputs": []
    },
    {
      "cell_type": "code",
      "metadata": {
        "id": "dNJZ4it12vHK",
        "colab_type": "code",
        "colab": {}
      },
      "source": [
        "for i in activity_data_available:\n",
        "  if i not in zinc_id_db_dict:\n",
        "    print(i)"
      ],
      "execution_count": 0,
      "outputs": []
    },
    {
      "cell_type": "code",
      "metadata": {
        "id": "5Rt1GsRuBhnc",
        "colab_type": "code",
        "colab": {}
      },
      "source": [
        ""
      ],
      "execution_count": 0,
      "outputs": []
    },
    {
      "cell_type": "code",
      "metadata": {
        "id": "836arOagBh23",
        "colab_type": "code",
        "colab": {}
      },
      "source": [
        "!cp /content/drive/My\\ Drive/BindingDB_All_2019m3.tsv.zip /content/"
      ],
      "execution_count": 0,
      "outputs": []
    },
    {
      "cell_type": "code",
      "metadata": {
        "id": "wPY3BWpsBkA6",
        "colab_type": "code",
        "colab": {}
      },
      "source": [
        "!unzip BindingDB_All_2019m3.tsv.zip"
      ],
      "execution_count": 0,
      "outputs": []
    },
    {
      "cell_type": "code",
      "metadata": {
        "id": "58En9M0-BnqY",
        "colab_type": "code",
        "colab": {}
      },
      "source": [
        "data = pd.read_csv('BindingDB_All.tsv', sep = '\\t', error_bad_lines=False)"
      ],
      "execution_count": 0,
      "outputs": []
    },
    {
      "cell_type": "code",
      "metadata": {
        "id": "Kq_ZwoQRBtfX",
        "colab_type": "code",
        "colab": {}
      },
      "source": [
        "new_ds = prot_info_initial.loc[prot_info_initial['BindingDB Target Chain  Sequence'].isin(['MAAASSPPRAERKRWGWGRLPGARRGSAGLAKKCPFSLELAEGGPAGGALYAPIAPGAPGPAPPASPAAPAAPPVASDLGPRPPVSLDPRVSIYSTRRPVLARTHVQGRVYNFLERPTGWKCFVYHFAVFLIVLVCLIFSVLSTIEQYAALATGTLFWMEIVLVVFFGTEYVVRLWSAGCRSKYVGLWGRLRFARKPISIIDLIVVVASMVVLCVGSKGQVFATSAIRGIRFLQILRMLHVDRQGGTWRLLGSVVFIHRQELITTLYIGFLGLIFSSYFVYLAEKDAVNESGRVEFGSYADALWWGVVTVTTIGYGDKVPQTWVGKTIASCFSVFAISFFALPAGILGSGFALKVQQKQRQKHFNRQIPAAASLIQTAWRCYAAENPDSSTWKIYIRKAPRSHTLLSPSPKPKKSVVVKKKKFKLDKDNGVTPGEKMLTVPHITCDPPEERRLDHFSVDGYDSSVRKSPTLLEVSMPHFMRTNSFAEDLDLEGETLLTPITHISQLREHHRATIKVIRRMQYFVAKKKFQQARKPYDVRDVIEQYSQGHLNLMVRIKELQRRLDQSIGKPSLFISVSEKSKDRGSNTIGARLNRVEDKVTQLDQRLALITDMLHQLLSLHGGSTPGSGGPPREGGAHITQPCGSGGSVDPELFLPSNTLPTYEQLTVPRRGPDEGS'])]"
      ],
      "execution_count": 0,
      "outputs": []
    },
    {
      "cell_type": "code",
      "metadata": {
        "id": "8rw7zTjECKX7",
        "colab_type": "code",
        "colab": {}
      },
      "source": [
        "new_ds.shape"
      ],
      "execution_count": 0,
      "outputs": []
    },
    {
      "cell_type": "code",
      "metadata": {
        "id": "nwU8gB353VlX",
        "colab_type": "code",
        "colab": {}
      },
      "source": [
        "for ind in range(1,6):\n",
        "  print(ind)\n",
        "  with open(\"/content/lig_gen_in_zinc_1000_ds\"+str(ind)) as file2:\n",
        "      first_line = file2.readline()\n",
        "      unique_ids = []\n",
        "      for line in file2:\n",
        "        l=line.split(',')\n",
        "        zinc_id = l[0]\n",
        "        if zinc_id not in unique_ids:\n",
        "          unique_ids.append(zinc_id)      \n",
        "      print('number of ligands in zinc db ', len(unique_ids))\n",
        "        \n",
        "        \n"
      ],
      "execution_count": 0,
      "outputs": []
    }
  ]
}