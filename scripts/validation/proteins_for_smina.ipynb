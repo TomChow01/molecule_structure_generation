{
  "nbformat": 4,
  "nbformat_minor": 0,
  "metadata": {
    "colab": {
      "name": "proteins_for_smina.ipynb",
      "provenance": [],
      "collapsed_sections": []
    },
    "kernelspec": {
      "name": "python3",
      "display_name": "Python 3"
    }
  },
  "cells": [
    {
      "cell_type": "code",
      "metadata": {
        "id": "cLqNp5kenTG2",
        "colab_type": "code",
        "colab": {}
      },
      "source": [
        "import pandas as pd\n",
        "import numpy as np"
      ],
      "execution_count": 0,
      "outputs": []
    },
    {
      "cell_type": "code",
      "metadata": {
        "id": "MnQMLD_nna69",
        "colab_type": "code",
        "colab": {}
      },
      "source": [
        "from google.colab import drive\n",
        "drive.mount('/content/drive')"
      ],
      "execution_count": 0,
      "outputs": []
    },
    {
      "cell_type": "code",
      "metadata": {
        "id": "5E-ER2n0nc8U",
        "colab_type": "code",
        "colab": {}
      },
      "source": [
        "! cp /content/drive/My\\ Drive/dataset_full.zip /content/dataset_full.zip"
      ],
      "execution_count": 0,
      "outputs": []
    },
    {
      "cell_type": "code",
      "metadata": {
        "id": "vOWAGiXpngAx",
        "colab_type": "code",
        "colab": {}
      },
      "source": [
        "!unzip dataset_full.zip"
      ],
      "execution_count": 0,
      "outputs": []
    },
    {
      "cell_type": "code",
      "metadata": {
        "id": "6XJK8943njv3",
        "colab_type": "code",
        "colab": {}
      },
      "source": [
        "prot_info_initial = pd.read_csv('dataset_full (1)', sep = '\\t')"
      ],
      "execution_count": 0,
      "outputs": []
    },
    {
      "cell_type": "code",
      "metadata": {
        "id": "u5C2zUwpIcXn",
        "colab_type": "code",
        "colab": {}
      },
      "source": [
        "for col in prot_info_initial.columns: \n",
        "    print(col) "
      ],
      "execution_count": 0,
      "outputs": []
    },
    {
      "cell_type": "code",
      "metadata": {
        "id": "CFwA4KA70sXJ",
        "colab_type": "code",
        "colab": {}
      },
      "source": [
        "protein_pdb_and_names = [line.strip() for line in open(\"pdb_protein_pdb_and_name.txt\")]"
      ],
      "execution_count": 0,
      "outputs": []
    },
    {
      "cell_type": "code",
      "metadata": {
        "id": "2YQ_DWfND71y",
        "colab_type": "code",
        "colab": {}
      },
      "source": [
        "proteins_seq=[]\n",
        "pdbs=[]\n",
        "for line in protein_pdb_and_names:\n",
        "  line = line.split(\"\\t\")\n",
        "  pdb = line[0]\n",
        "  name = line[1]\n",
        "  pdbs.append(pdb)\n",
        "  new_ds = prot_info_initial.loc[prot_info_initial['UniProt (SwissProt) Recommended Name of Target Chain'] == name]\n",
        "  new_ds1 = new_ds.loc[pd.isnull(new_ds['ZINC ID of Ligand']) == False]\n",
        "  new_ds2 = new_ds1[[\"UniProt (SwissProt) Recommended Name of Target Chain\", \"PDB ID(s) of Target Chain\", \"Ligand SMILES\"]].drop_duplicates()\n",
        "  new_ds3 = new_ds1[[\"BindingDB Target Chain  Sequence\"]].drop_duplicates()\n",
        "  proteins_seq.append(new_ds3[\"BindingDB Target Chain  Sequence\"].tolist())\n",
        "  with open('/content/ligands_'+str(pdb),\"w\") as file2:\n",
        "    new_ds2[\"Ligand SMILES\"].to_csv(file2,sep='\\t',index=False) \n",
        "  "
      ],
      "execution_count": 0,
      "outputs": []
    },
    {
      "cell_type": "code",
      "metadata": {
        "id": "wdr3zY6cCMRh",
        "colab_type": "code",
        "colab": {}
      },
      "source": [
        "proteins_seq = [item for sublist in proteins_seq for item in sublist] \n",
        "print(proteins_seq)"
      ],
      "execution_count": 0,
      "outputs": []
    },
    {
      "cell_type": "code",
      "metadata": {
        "id": "DGLQq-KJjDle",
        "colab_type": "code",
        "colab": {}
      },
      "source": [
        "protein_list = [line.strip() for line in open(\"proteins_test5.unique\")]\n",
        "ligand_list = [line.strip() for line in open(\"ligands_generated_1000_5_larger\")]\n",
        "\n",
        "prot_to_lig_dict={protein_list[i]:ligand_list[i*10:i*10+10] for i in range(len(protein_list))}\n",
        "\n",
        "\n",
        "for seq, pdb in zip(proteins_seq, pdbs):\n",
        "  with open('/content/ligands_generated_'+str(pdb),\"w\") as file3:\n",
        "    for item in prot_to_lig_dict[seq]:\n",
        "      if item != 'C':\n",
        "        file3.write(\"%s\\n\" % item)"
      ],
      "execution_count": 0,
      "outputs": []
    },
    {
      "cell_type": "code",
      "metadata": {
        "id": "BW-tjK0gCw2m",
        "colab_type": "code",
        "colab": {}
      },
      "source": [
        "! rm ligands_*"
      ],
      "execution_count": 0,
      "outputs": []
    },
    {
      "cell_type": "code",
      "metadata": {
        "id": "FaYw89jnIrE5",
        "colab_type": "code",
        "colab": {}
      },
      "source": [
        "import random\n",
        "\n",
        "\n",
        "def file_to_list(ligand_file_name):\n",
        "  with open(ligand_file_name, 'r') as f:\n",
        "    lines = [line.strip() for line in f]\n",
        "  return lines\n",
        "\n",
        "\n",
        "def random_ligands(ligands_number, line_number):\n",
        "  return random.sample(range(ligands_number), line_number)\n",
        "\n",
        "\n",
        "def choose_rand_lig(rand_nums, ligands):\n",
        "  return [ligands[i] for i in rand_nums]\n",
        "\n",
        "\n",
        "def main():\n",
        "  protein_pdbs = [line.strip() for line in open(\"pdb_ids.txt\")]\n",
        "  line_number = 10\n",
        "  for pdb_id in protein_pdbs:\n",
        "    pdb_id = pdb_id.strip()\n",
        "    ligand_file_name = 'ligands_'+pdb_id\n",
        "    ligands_list = file_to_list(ligand_file_name)\n",
        "    if len(ligands_list) > 10:\n",
        "      final_ligands_list = choose_rand_lig(random_ligands(len(ligands_list), line_number),ligands_list)\n",
        "      with open(ligand_file_name, 'w') as f2:\n",
        "        for lig in final_ligands_list:\n",
        "          f2.write(lig+'\\n')\n",
        "  return\n",
        "  \n",
        "  \n",
        "  \n",
        "main()\n",
        "  \n",
        "  \n",
        "    \n",
        "  \n"
      ],
      "execution_count": 0,
      "outputs": []
    },
    {
      "cell_type": "code",
      "metadata": {
        "id": "DRZz9nNJSQ58",
        "colab_type": "code",
        "colab": {}
      },
      "source": [
        "!rm ligands*"
      ],
      "execution_count": 0,
      "outputs": []
    },
    {
      "cell_type": "code",
      "metadata": {
        "id": "r5F0K3VMTkn8",
        "colab_type": "code",
        "colab": {}
      },
      "source": [
        "import os\n",
        "from urllib.request import urlretrieve\n",
        "import pickle\n",
        "\n",
        "\n",
        "\n",
        "download_folder = \"/content/\"\n",
        "\n",
        "\n",
        "pdb_list = [line.strip() for line in open(\"pdb_ids.txt\")]\n",
        "\n",
        "def download():\n",
        "    for pdb in pdb_list:\n",
        "        filename = pdb+\".pdb\"\n",
        "        print(filename)\n",
        "        url='https://files.rcsb.org/download/%s' % filename\n",
        "        destination_file = os.path.join(download_folder,filename)\n",
        "        urlretrieve(url,destination_file)\n",
        "    return\n",
        "  \n",
        "  \n",
        "download()"
      ],
      "execution_count": 0,
      "outputs": []
    }
  ]
}