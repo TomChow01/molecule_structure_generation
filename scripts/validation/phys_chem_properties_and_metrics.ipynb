{
  "nbformat": 4,
  "nbformat_minor": 0,
  "metadata": {
    "colab": {
      "name": "phys_chem_properties_and_metrics.ipynb",
      "provenance": [],
      "collapsed_sections": []
    },
    "kernelspec": {
      "name": "python3",
      "display_name": "Python 3"
    }
  },
  "cells": [
    {
      "cell_type": "code",
      "metadata": {
        "id": "Lj2QwFNhfQxk",
        "colab_type": "code",
        "colab": {}
      },
      "source": [
        "!wget -c https://repo.continuum.io/miniconda/Miniconda3-latest-Linux-x86_64.sh\n",
        "!chmod +x Miniconda3-latest-Linux-x86_64.sh\n",
        "!time bash ./Miniconda3-latest-Linux-x86_64.sh -b -f -p /usr/local\n",
        "!time conda install -q -y -c conda-forge rdkit"
      ],
      "execution_count": 0,
      "outputs": []
    },
    {
      "cell_type": "code",
      "metadata": {
        "id": "emlkQTGmlShV",
        "colab_type": "code",
        "colab": {}
      },
      "source": [
        "import matplotlib.pyplot as plt\n",
        "import numpy as np\n",
        "\n",
        "%matplotlib inline "
      ],
      "execution_count": 0,
      "outputs": []
    },
    {
      "cell_type": "code",
      "metadata": {
        "id": "tSRuqQS7fWk5",
        "colab_type": "code",
        "colab": {}
      },
      "source": [
        "import sys\n",
        "sys.path.append('/usr/local/lib/python3.6.7/site-packages/')\n",
        "sys.path.append('/usr/local/lib/python3.7/site-packages/rdkit/')"
      ],
      "execution_count": 0,
      "outputs": []
    },
    {
      "cell_type": "code",
      "metadata": {
        "id": "wOettwPikTLC",
        "colab_type": "code",
        "colab": {}
      },
      "source": [
        "% cd /usr/local/lib/python3.7/site-packages/"
      ],
      "execution_count": 0,
      "outputs": []
    },
    {
      "cell_type": "code",
      "metadata": {
        "id": "uQ6VjZTFrbOC",
        "colab_type": "code",
        "colab": {}
      },
      "source": [
        "from rdkit import Chem\n"
      ],
      "execution_count": 0,
      "outputs": []
    },
    {
      "cell_type": "code",
      "metadata": {
        "id": "mbvPaExvoG7V",
        "colab_type": "code",
        "colab": {}
      },
      "source": [
        "% cd /content/"
      ],
      "execution_count": 0,
      "outputs": []
    },
    {
      "cell_type": "code",
      "metadata": {
        "id": "qVqfpkv21AcQ",
        "colab_type": "code",
        "colab": {}
      },
      "source": [
        "%cd /content/rdkit/Contrib/SA_Score/"
      ],
      "execution_count": 0,
      "outputs": []
    },
    {
      "cell_type": "code",
      "metadata": {
        "id": "k-FVWdl9tcZP",
        "colab_type": "code",
        "colab": {}
      },
      "source": [
        "%%writefile sascorer.py\n",
        "from rdkit import Chem\n",
        "from rdkit.Chem import rdMolDescriptors\n",
        "import pickle\n",
        "\n",
        "import math\n",
        "from collections import defaultdict\n",
        "\n",
        "import os.path as op\n",
        "\n",
        "_fscores = None\n",
        "\n",
        "\n",
        "def readFragmentScores(name='fpscores'):\n",
        "    import gzip\n",
        "    global _fscores\n",
        "    # generate the full path filename:\n",
        "    if name == \"fpscores\":\n",
        "        name = op.join(op.dirname(__file__), name)\n",
        "    _fscores = pickle.load(gzip.open('%s.pkl.gz' % name))\n",
        "    outDict = {}\n",
        "    for i in _fscores:\n",
        "        for j in range(1, len(i)):\n",
        "            outDict[i[j]] = float(i[0])\n",
        "    _fscores = outDict\n",
        "\n",
        "\n",
        "def numBridgeheadsAndSpiro(mol, ri=None):\n",
        "    nSpiro = rdMolDescriptors.CalcNumSpiroAtoms(mol)\n",
        "    nBridgehead = rdMolDescriptors.CalcNumBridgeheadAtoms(mol)\n",
        "    return nBridgehead, nSpiro\n",
        "\n",
        "\n",
        "def calculateScore(m):\n",
        "    if _fscores is None:\n",
        "        readFragmentScores()\n",
        "\n",
        "    # fragment score\n",
        "    fp = rdMolDescriptors.GetMorganFingerprint(m,\n",
        "                                               2)  # <- 2 is the *radius* of the circular fingerprint\n",
        "    fps = fp.GetNonzeroElements()\n",
        "    score1 = 0.\n",
        "    nf = 0\n",
        "    for bitId, v in fps.items():\n",
        "        nf += v\n",
        "        sfp = bitId\n",
        "        score1 += _fscores.get(sfp, -4) * v\n",
        "    score1 /= nf\n",
        "\n",
        "    # features score\n",
        "    nAtoms = m.GetNumAtoms()\n",
        "    nChiralCenters = len(Chem.FindMolChiralCenters(m, includeUnassigned=True))\n",
        "    ri = m.GetRingInfo()\n",
        "    nBridgeheads, nSpiro = numBridgeheadsAndSpiro(m, ri)\n",
        "    nMacrocycles = 0\n",
        "    for x in ri.AtomRings():\n",
        "        if len(x) > 8:\n",
        "            nMacrocycles += 1\n",
        "\n",
        "    sizePenalty = nAtoms**1.005 - nAtoms\n",
        "    stereoPenalty = math.log10(nChiralCenters + 1)\n",
        "    spiroPenalty = math.log10(nSpiro + 1)\n",
        "    bridgePenalty = math.log10(nBridgeheads + 1)\n",
        "    macrocyclePenalty = 0.\n",
        "    # ---------------------------------------\n",
        "    # This differs from the paper, which defines:\n",
        "    #  macrocyclePenalty = math.log10(nMacrocycles+1)\n",
        "    # This form generates better results when 2 or more macrocycles are present\n",
        "    if nMacrocycles > 0:\n",
        "        macrocyclePenalty = math.log10(2)\n",
        "\n",
        "    score2 = 0. - sizePenalty - stereoPenalty - spiroPenalty - bridgePenalty - macrocyclePenalty\n",
        "\n",
        "    # correction for the fingerprint density\n",
        "    # not in the original publication, added in version 1.1\n",
        "    # to make highly symmetrical molecules easier to synthetise\n",
        "    score3 = 0.\n",
        "    if nAtoms > len(fps):\n",
        "        score3 = math.log(float(nAtoms) / len(fps)) * .5\n",
        "\n",
        "    sascore = score1 + score2 + score3\n",
        "\n",
        "    # need to transform \"raw\" value into scale between 1 and 10\n",
        "    min = -4.0\n",
        "    max = 2.5\n",
        "    sascore = 11. - (sascore - min + 1) / (max - min) * 9.\n",
        "    # smooth the 10-end\n",
        "    if sascore > 8.:\n",
        "        sascore = 8. + math.log(sascore + 1. - 9.)\n",
        "    if sascore > 10.:\n",
        "        sascore = 10.0\n",
        "    elif sascore < 1.:\n",
        "        sascore = 1.0\n",
        "\n",
        "    return sascore\n",
        "\n",
        "\n",
        "def processMols(mols):\n",
        "    print('smiles\\tName\\tsa_score')\n",
        "    for i, m in enumerate(mols):\n",
        "        if m is None:\n",
        "            continue\n",
        "\n",
        "        s = calculateScore(m)\n",
        "\n",
        "        smiles = Chem.MolToSmiles(m)\n",
        "        print(smiles + \"\\t\" + m.GetProp('_Name') + \"\\t%3f\" % s)\n",
        "\n",
        "\n",
        "if __name__ == '__main__':\n",
        "    import sys\n",
        "    import time\n",
        "\n",
        "    t1 = time.time()\n",
        "    readFragmentScores(\"fpscores\")\n",
        "    t2 = time.time()\n",
        "\n",
        "    suppl = Chem.SmilesMolSupplier(sys.argv[1],titleLine=False,nameColumn=-1)\n",
        "    t3 = time.time()\n",
        "    processMols(suppl)\n",
        "    t4 = time.time()\n",
        "\n",
        "    print('Reading took %.2f seconds. Calculating took %.2f seconds' % ((t2 - t1), (t4 - t3)),\n",
        "          file=sys.stderr)"
      ],
      "execution_count": 0,
      "outputs": []
    },
    {
      "cell_type": "code",
      "metadata": {
        "id": "Vj2CI2iM-lTr",
        "colab_type": "code",
        "colab": {}
      },
      "source": [
        "%cd /content/"
      ],
      "execution_count": 0,
      "outputs": []
    },
    {
      "cell_type": "code",
      "metadata": {
        "id": "l15BbGz1oe4p",
        "colab_type": "code",
        "colab": {}
      },
      "source": [
        "def write_to_file_without_c(file,list_):\n",
        "  out = open(file, \"w\")\n",
        "  for l in list_:\n",
        "    if l != 'C':\n",
        "      out.write(l+'\\n')\n",
        "  out.close()\n",
        "  return\n",
        "\n",
        "\n",
        "for i in range(1,6):\n",
        "  lig_gen_file = \"protein.seq.decode.results_bs4_\"+str(i)+\"_larger_ligands_generated\"\n",
        "  lig_gen_1000_file = \"protein.seq.decode.results_bs4_1000_\"+str(i)+\"_larger_ligands_generated\"\n",
        "  lig_train_file = \"ligands_train.space_sep_seq_\"+str(i)\n",
        "  out_file = \"ligands_train_join.space_sep_seq_\"+str(i)\n",
        "  lig_train = [''.join([value.strip() for value in line.split(' ')]) for line in open(lig_train_file, 'r')]\n",
        "  lig_gen = [line.strip() for line in open(lig_gen_file, 'r')]\n",
        "  lig_gen_1000 = [line.strip() for line in open(lig_gen_1000_file, 'r')]\n",
        "  write_to_file_without_c(lig_gen_file,lig_gen)\n",
        "  write_to_file_without_c(lig_gen_1000_file,lig_gen_1000)\n",
        "  write_to_file_without_c(lig_train_file,lig_train)"
      ],
      "execution_count": 0,
      "outputs": []
    },
    {
      "cell_type": "code",
      "metadata": {
        "id": "XD0IInsI-uas",
        "colab_type": "code",
        "outputId": "4a25ae53-dac8-4dde-8b62-4854a09d12c6",
        "colab": {
          "base_uri": "https://localhost:8080/",
          "height": 33
        }
      },
      "source": [
        "%cd /content/rdkit/Contrib/SA_Score/\n"
      ],
      "execution_count": 9,
      "outputs": [
        {
          "output_type": "stream",
          "text": [
            "/content/rdkit/Contrib/SA_Score\n"
          ],
          "name": "stdout"
        }
      ]
    },
    {
      "cell_type": "code",
      "metadata": {
        "id": "ArLWR2QLCx6Z",
        "colab_type": "code",
        "colab": {}
      },
      "source": [
        "%%shell\n",
        "for filename in /content/{ligands_train*,protein*}\n",
        "do\n",
        "echo $(basename $filename)\n",
        "tmp=$(basename $filename)\n",
        "new_name='/content/sas_'$tmp\n",
        "python sascorer.py $filename > $new_name\n",
        "done"
      ],
      "execution_count": 0,
      "outputs": []
    },
    {
      "cell_type": "code",
      "metadata": {
        "id": "qvWuYDn6n19K",
        "colab_type": "code",
        "outputId": "42b61e5b-b6dd-4ce3-965b-014d293aa90e",
        "colab": {
          "base_uri": "https://localhost:8080/",
          "height": 33
        }
      },
      "source": [
        "%cd /content/"
      ],
      "execution_count": 20,
      "outputs": [
        {
          "output_type": "stream",
          "text": [
            "/content\n"
          ],
          "name": "stdout"
        }
      ]
    },
    {
      "cell_type": "code",
      "metadata": {
        "id": "_j7Xn1nkySIR",
        "colab_type": "code",
        "colab": {}
      },
      "source": [
        "import seaborn as sns\n",
        "\n",
        "def show_hist_old(list_to_show_gen,list_to_gen_1000, list_to_show_train,plot_title,ds_num):\n",
        "  plt.figure()\n",
        "  sns.distplot( list_to_show_gen , label=\"generated ligands\")\n",
        "  sns.distplot( list_to_show_train , label=\"ligands used for train\")\n",
        "  sns.distplot( list_to_gen_1000 , label=\"generated 1000 ligands\")\n",
        "  plt.legend()\n",
        "  plt.title(plot_title+str(ds_num))\n",
        "  return\n",
        "\n",
        "\n",
        "\n",
        "def show_hist(list_to_show_gen,list_to_gen_1000, list_to_show_train,plot_title,ds_num):\n",
        "  # cache data for future processing\n",
        "  for data_id, data in enumerate([list_to_show_gen, list_to_gen_1000, list_to_show_train]):\n",
        "    filename = f'{plot_title}_{ds_num}_{data_id}_sas.txt'\n",
        "    np.savetxt(filename, data)\n",
        "    print(f'Saved data to {filename}')\n",
        "    #files.download(filename)\n",
        "  \n",
        "  plt.figure()\n",
        "  sns.distplot( list_to_show_gen ,  label=\"generated ligands\", kde=False, norm_hist=True)\n",
        "  sns.distplot( list_to_show_train ,  label=\"ligands used for train\", kde=False, norm_hist=True)\n",
        "  sns.distplot( list_to_gen_1000 ,  label=\"generated 1000 ligands\", kde=False, norm_hist=True)\n",
        "  plt.legend()\n",
        "  plt.title(plot_title+str(ds_num))\n",
        "  return\n",
        "\n",
        "\n",
        "def sas_extract(file):\n",
        "  list_final=[]\n",
        "  with open(file, 'r') as f:\n",
        "    next(f)\n",
        "    for line in f:      \n",
        "      line=line.strip()\n",
        "      parts = line.split('\\t')\n",
        "      list_final.append(float(parts[2]))\n",
        "  return list_final\n",
        "      \n",
        "  \n",
        "  \n",
        "  \n",
        "\n",
        "for i in range(1,6):\n",
        "  print('processing ds '+str(i))\n",
        "  lig_gen_file = \"sas_protein.seq.decode.results_bs4_\"+str(i)+\"_larger_ligands_generated\"\n",
        "  lig_gen_1000_file = \"sas_protein.seq.decode.results_bs4_1000_\"+str(i)+\"_larger_ligands_generated\"\n",
        "  lig_train_file = \"sas_ligands_train.space_sep_seq_\"+str(i)\n",
        "  lig_generated_sas = sas_extract(lig_gen_file)\n",
        "  lig_generated_1000_sas = sas_extract(lig_gen_1000_file)\n",
        "  lig_train_sas = sas_extract(lig_train_file)\n",
        "  \n",
        "  \n",
        "  show_hist(lig_generated_sas,lig_generated_1000_sas,lig_train_sas,'sas',i)\n",
        "  "
      ],
      "execution_count": 0,
      "outputs": []
    },
    {
      "cell_type": "code",
      "metadata": {
        "id": "6oLrSbr42ms4",
        "colab_type": "code",
        "colab": {}
      },
      "source": [
        "!rm *.txt"
      ],
      "execution_count": 0,
      "outputs": []
    },
    {
      "cell_type": "code",
      "metadata": {
        "id": "cHek22cua7o4",
        "colab_type": "code",
        "colab": {}
      },
      "source": [
        "for i in range(1,6):\n",
        "  lig_gen_file = \"protein.seq.decode.results_bs4_1000_\"+str(i)+\"_larger_ligands_generated\"\n",
        "  lig_train_file = \"ligands_train.space_sep_seq_\"+str(i)\n",
        "  out_file = \"check_gen_vs_train_1000_\"+str(i)\n",
        "  lig_generated = [line.strip() for line in open(lig_gen_file, 'r')]\n",
        "  lig_train = [''.join([value.strip() for value in line.split(' ')]) for line in open(lig_train_file, 'r')]\n",
        "  uniq_lig_train = []\n",
        "  for ligand in lig_train:\n",
        "    if ligand not in uniq_lig_train:\n",
        "      uniq_lig_train.append(ligand)\n",
        "  \n",
        "  print(len(lig_train))\n",
        "  print(len(uniq_lig_train))\n",
        "  \n",
        "  \n",
        "  lig_train=uniq_lig_train\n",
        "  \n",
        "  out = open(out_file, \"w\")\n",
        "\n",
        "  k=0\n",
        "  for x in lig_generated:\n",
        "      for y in lig_train:\n",
        "          if str(x.strip()) == str(y.strip()):\n",
        "              #print(y.strip() + ' ' + x.strip() + ' ' + str(k) + '\\n')\n",
        "              out.write(y.strip()+'\\n')\n",
        "      k=k+1\n",
        "  \n",
        "  out.close()"
      ],
      "execution_count": 0,
      "outputs": []
    },
    {
      "cell_type": "code",
      "metadata": {
        "id": "3ZQs32w4KaTa",
        "colab_type": "code",
        "colab": {}
      },
      "source": [
        "%cd /content/"
      ],
      "execution_count": 0,
      "outputs": []
    },
    {
      "cell_type": "code",
      "metadata": {
        "id": "GEwvUY0B6gU2",
        "colab_type": "code",
        "colab": {}
      },
      "source": [
        "! rm *.txt"
      ],
      "execution_count": 0,
      "outputs": []
    },
    {
      "cell_type": "code",
      "metadata": {
        "id": "YFqo5J98XXEr",
        "colab_type": "code",
        "colab": {}
      },
      "source": [
        "from rdkit import Chem\n",
        "from rdkit.Chem import Lipinski\n",
        "from rdkit.Chem import rdMolDescriptors\n",
        "from rdkit.Chem import Descriptors\n",
        "from rdkit.Chem import Crippen\n",
        "from rdkit.Chem.Descriptors import qed\n",
        "\n",
        "\n",
        "import seaborn as sns\n",
        "\n",
        "plt.style.use('seaborn-pastel')\n",
        "\n",
        "from google.colab import files\n",
        "\n",
        "\n",
        "def show_hist(list_to_show_gen,list_to_gen_1000, list_to_show_train,plot_title,ds_num):\n",
        "  # cache data for future processing\n",
        "  for data_id, data in enumerate([list_to_show_gen, list_to_gen_1000, list_to_show_train]):\n",
        "    filename = f'{plot_title}_{ds_num}_{data_id}.txt'\n",
        "    np.savetxt(filename, data)\n",
        "    print(f'Saved data to {filename}')\n",
        "    #files.download(filename)\n",
        "  \n",
        "  plt.figure()\n",
        "  sns.distplot( list_to_show_gen ,  label=\"generated ligands\", kde=False, norm_hist=True)\n",
        "  sns.distplot( list_to_show_train ,  label=\"ligands used for train\", kde=False, norm_hist=True)\n",
        "  sns.distplot( list_to_gen_1000 ,  label=\"generated 1000 ligands\", kde=False, norm_hist=True)\n",
        "  plt.legend()\n",
        "  plt.title(plot_title+str(ds_num))\n",
        "  return"
      ],
      "execution_count": 0,
      "outputs": []
    },
    {
      "cell_type": "code",
      "metadata": {
        "id": "nHfbKrbe0Q4M",
        "colab_type": "code",
        "colab": {}
      },
      "source": [
        "for i in range(1,6):\n",
        "  print('processing ds '+str(i))\n",
        "  lig_gen_file = \"protein.seq.decode.results_bs4_\"+str(i)+\"_larger_ligands_generated\"\n",
        "  lig_gen_1000_file = \"protein.seq.decode.results_bs4_1000_\"+str(i)+\"_larger_ligands_generated\"\n",
        "  lig_train_file = \"ligands_train.space_sep_seq_\"+str(i)\n",
        "  lig_generated = [line.strip() for line in open(lig_gen_file, 'r')]\n",
        "  lig_generated_1000 = [line.strip() for line in open(lig_gen_1000_file, 'r')]\n",
        "  lig_train = [''.join([value.strip() for value in line.split(' ')]) for line in open(lig_train_file, 'r')]\n",
        "  uniq_lig_train = []\n",
        "  for ligand in lig_train:\n",
        "    if ligand not in uniq_lig_train:\n",
        "      uniq_lig_train.append(ligand)\n",
        "  \n",
        "  print(len(lig_train))\n",
        "  print(len(uniq_lig_train))\n",
        "  lig_train=uniq_lig_train\n",
        "  \n",
        "  \n",
        "  gen_logP = list(map(lambda x: Crippen.MolLogP(Chem.MolFromSmiles(x)), lig_generated))\n",
        "  gen_qed = list(map(lambda x: qed(Chem.MolFromSmiles(x)), lig_generated))\n",
        "  gen_h_accept = list(map(lambda x: rdMolDescriptors.CalcNumLipinskiHBA(Chem.MolFromSmiles(x)), lig_generated))\n",
        "  gen_h_donor = list(map(lambda x: rdMolDescriptors.CalcNumLipinskiHBD(Chem.MolFromSmiles(x)), lig_generated))\n",
        "  gen_rot_bond = list(map(lambda x: rdMolDescriptors.CalcNumRotatableBonds(Chem.MolFromSmiles(x)), lig_generated))\n",
        "  gen_mol_weight = list(map(lambda x: Descriptors.MolWt(Chem.MolFromSmiles(x)), lig_generated))\n",
        "  gen_tpsa = list(map(lambda x: rdMolDescriptors.CalcTPSA(Chem.MolFromSmiles(x)), lig_generated))\n",
        "  gen_len = list(map(lambda x: len(x), lig_generated))\n",
        "  \n",
        "  \n",
        "  \n",
        "  \n",
        "  gen_1000_logP = list(map(lambda x: Crippen.MolLogP(Chem.MolFromSmiles(x)), lig_generated_1000))\n",
        "  gen_1000_qed = list(map(lambda x: qed(Chem.MolFromSmiles(x)), lig_generated_1000))\n",
        "  gen_1000_h_accept = list(map(lambda x: rdMolDescriptors.CalcNumLipinskiHBA(Chem.MolFromSmiles(x)), lig_generated_1000))\n",
        "  gen_1000_h_donor = list(map(lambda x: rdMolDescriptors.CalcNumLipinskiHBD(Chem.MolFromSmiles(x)), lig_generated_1000))\n",
        "  gen_1000_rot_bond = list(map(lambda x: rdMolDescriptors.CalcNumRotatableBonds(Chem.MolFromSmiles(x)), lig_generated_1000))\n",
        "  gen_1000_mol_weight = list(map(lambda x: Descriptors.MolWt(Chem.MolFromSmiles(x)), lig_generated_1000))\n",
        "  gen_1000_tpsa = list(map(lambda x: rdMolDescriptors.CalcTPSA(Chem.MolFromSmiles(x)), lig_generated_1000))\n",
        "  gen_1000_len = list(map(lambda x: len(x), lig_generated_1000))\n",
        "  \n",
        "  \n",
        "  print('train part')\n",
        "  \n",
        "  \n",
        "  train_logP = list(map(lambda x: Crippen.MolLogP(Chem.MolFromSmiles(x)), lig_train))\n",
        "  train_qed = list(map(lambda x: qed(Chem.MolFromSmiles(x)), lig_train))\n",
        "  train_h_accept = list(map(lambda x: rdMolDescriptors.CalcNumLipinskiHBA(Chem.MolFromSmiles(x)), lig_train))\n",
        "  train_h_donor = list(map(lambda x: rdMolDescriptors.CalcNumLipinskiHBD(Chem.MolFromSmiles(x)), lig_train))\n",
        "  train_rot_bond = list(map(lambda x: rdMolDescriptors.CalcNumRotatableBonds(Chem.MolFromSmiles(x)), lig_train))\n",
        "  train_mol_weight = list(map(lambda x: Descriptors.MolWt(Chem.MolFromSmiles(x)), lig_train))\n",
        "  train_tpsa = list(map(lambda x: rdMolDescriptors.CalcTPSA(Chem.MolFromSmiles(x)), lig_train))\n",
        "  train_len = list(map(lambda x: len(x), lig_train))\n",
        "  \n",
        "  \n",
        "  print('plotting')\n",
        "  \n",
        "  \n",
        "  show_hist(gen_logP,gen_1000_logP,train_logP,'logP',i)\n",
        "  show_hist(gen_qed,gen_1000_qed,train_qed,'qed',i)\n",
        "  show_hist(gen_h_accept,gen_1000_h_accept,train_h_accept,'h_accept',i)\n",
        "  show_hist(gen_h_donor,gen_1000_h_donor, train_h_donor,'h_donor',i)\n",
        "  show_hist(gen_rot_bond,gen_1000_rot_bond, train_rot_bond,'rot_bond',i)\n",
        "  show_hist(gen_mol_weight,gen_1000_mol_weight, train_mol_weight,'mol_weight',i)\n",
        "  show_hist(gen_tpsa,gen_1000_tpsa,train_tpsa,'tpsa',i)\n",
        "  show_hist(gen_len,gen_1000_len, train_len,'len',i)\n",
        "    \n",
        "  \n",
        "  \n",
        "  \n",
        "  \n"
      ],
      "execution_count": 0,
      "outputs": []
    },
    {
      "cell_type": "code",
      "metadata": {
        "id": "AezR84MjAunh",
        "colab_type": "code",
        "colab": {}
      },
      "source": [
        "plot_names = ['h_accept', 'h_donor', 'len', 'logP', 'mol_weight', 'qed', 'rot_bond', 'tpsa']\n",
        "for name in plot_names:\n",
        "    for model_id in range(1, 6):\n",
        "        for data_id in range(3):\n",
        "            filename = f'{name}_{model_id}_{data_id}.txt'\n",
        "            files.download(filename)"
      ],
      "execution_count": 0,
      "outputs": []
    },
    {
      "cell_type": "code",
      "metadata": {
        "id": "m5luluGR5b6A",
        "colab_type": "code",
        "colab": {}
      },
      "source": [
        "from rdkit import Chem\n",
        "from rdkit.Chem import AllChem\n",
        "db_fingerprints = [AllChem.GetMorganFingerprintAsBitVect(Chem.MolFromSmiles(m), 2, nBits=1024) for m in lig_train]"
      ],
      "execution_count": 0,
      "outputs": []
    },
    {
      "cell_type": "code",
      "metadata": {
        "id": "4UQxwGNnYgB-",
        "colab_type": "code",
        "colab": {}
      },
      "source": [
        "def max_tanimoto_compute(ligand_list,db_fingerprints, plot_name, ds_num):\n",
        "  max_tanimoto=[]\n",
        "  for query_smiles in ligand_list:\n",
        "    query_fp = AllChem.GetMorganFingerprintAsBitVect(Chem.MolFromSmiles(query_smiles), 2, nBits=1024)\n",
        "    max_score = max([AllChem.DataStructs.FingerprintSimilarity(query_fp, db_fp) for db_fp in db_fingerprints])\n",
        "    max_tanimoto.append(max_score)\n",
        "  print(len(max_tanimoto))\n",
        "  filename = f'{plot_name}_{ds_num}.txt'\n",
        "  np.savetxt(filename, max_tanimoto)\n",
        "  #plt.hist(max_tanimoto)\n",
        "  #plt.show()\n",
        "  return"
      ],
      "execution_count": 0,
      "outputs": []
    },
    {
      "cell_type": "code",
      "metadata": {
        "id": "0Ezui6kbcc7C",
        "colab_type": "code",
        "colab": {}
      },
      "source": [
        "from rdkit import Chem\n",
        "from rdkit.Chem import AllChem\n",
        "\n",
        "for i in range(1,6):\n",
        "  lig_gen_file = \"protein.seq.decode.results_bs4_\"+str(i)+\"_larger_ligands_generated\"\n",
        "  lig_gen_1000_file = \"protein.seq.decode.results_bs4_1000_\"+str(i)+\"_larger_ligands_generated\"\n",
        "  lig_train_file = \"ligands_train.space_sep_seq_\"+str(i)\n",
        "  lig_generated = [line.strip() for line in open(lig_gen_file, 'r')]\n",
        "  lig_generated_1000 = [line.strip() for line in open(lig_gen_1000_file, 'r')]\n",
        "  lig_train = [''.join([value.strip() for value in line.split(' ')]) for line in open(lig_train_file, 'r')]\n",
        "  uniq_lig_train = []\n",
        "  for ligand in lig_train:\n",
        "    if ligand not in uniq_lig_train:\n",
        "      uniq_lig_train.append(ligand)\n",
        "  \n",
        "  print(len(lig_train))\n",
        "  print(len(uniq_lig_train))\n",
        "  lig_train=uniq_lig_train\n",
        "  \n",
        "  db_fingerprints_ = [AllChem.GetMorganFingerprintAsBitVect(Chem.MolFromSmiles(m), 2, nBits=1024) for m in lig_train]\n",
        "  \n",
        "  max_tanimoto_compute(ligand_list=lig_generated_1000,db_fingerprints=db_fingerprints_, plot_name='generated_1000', ds_num=i)\n",
        "  max_tanimoto_compute(ligand_list=lig_generated,db_fingerprints=db_fingerprints_, plot_name='generated', ds_num=i)"
      ],
      "execution_count": 0,
      "outputs": []
    },
    {
      "cell_type": "code",
      "metadata": {
        "id": "7sUWnN3b0sSt",
        "colab_type": "code",
        "colab": {}
      },
      "source": [
        "from rdkit import Chem\n",
        "from rdkit.Chem.Scaffolds import MurckoScaffold\n",
        "\n",
        "for i in range(1,6):\n",
        "  lig_gen_file = \"protein.seq.decode.results_bs4_\"+str(i)+\"_larger_ligands_generated\"\n",
        "  lig_gen_1000_file = \"protein.seq.decode.results_bs4_1000_\"+str(i)+\"_larger_ligands_generated\"\n",
        "  lig_train_file = \"ligands_train.space_sep_seq_\"+str(i)\n",
        "  lig_generated = [line.strip() for line in open(lig_gen_file, 'r')]\n",
        "  lig_generated_1000 = [line.strip() for line in open(lig_gen_1000_file, 'r')]\n",
        "  lig_train = [''.join([value.strip() for value in line.split(' ')]) for line in open(lig_train_file, 'r')]\n",
        "  uniq_lig_train = []\n",
        "  for ligand in lig_train:\n",
        "    if ligand not in uniq_lig_train:\n",
        "      uniq_lig_train.append(ligand)\n",
        "  \n",
        "  print(len(lig_train))\n",
        "  print(len(uniq_lig_train))\n",
        "  lig_train=uniq_lig_train\n",
        "  \n",
        "  gen_murcko = list(map(lambda x: MurckoScaffold.MurckoScaffoldSmiles(x), lig_generated))\n",
        "  gen_1000_murcko = list(map(lambda x: MurckoScaffold.MurckoScaffoldSmiles(x), lig_generated_1000))\n",
        "  train_murcko = list(map(lambda x: MurckoScaffold.MurckoScaffoldSmiles(x), lig_train))\n",
        "\n",
        "  print(i)\n",
        "  print('number of unique scsffolds in generated set ',len(set(gen_murcko)))\n",
        "  print('number of unique scsffolds in generated 1000 set ',len(set(gen_1000_murcko)))\n",
        "  print('number of unique scsffolds in train set ',len(set(train_murcko)))\n",
        "  print('number of common scsffolds ',len(list(set(gen_murcko).intersection(train_murcko))))\n",
        "  print('number of common scsffolds ',len(list(set(gen_1000_murcko).intersection(train_murcko))))\n",
        "  "
      ],
      "execution_count": 0,
      "outputs": []
    },
    {
      "cell_type": "code",
      "metadata": {
        "id": "Ify3wPNKtvgm",
        "colab_type": "code",
        "colab": {}
      },
      "source": [
        ""
      ],
      "execution_count": 0,
      "outputs": []
    }
  ]
}